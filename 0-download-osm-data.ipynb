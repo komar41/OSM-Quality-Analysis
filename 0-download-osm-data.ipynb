{
 "cells": [
  {
   "cell_type": "code",
   "execution_count": 1,
   "metadata": {},
   "outputs": [],
   "source": [
    "%load_ext autoreload\n",
    "%autoreload 2"
   ]
  },
  {
   "cell_type": "code",
   "execution_count": 2,
   "metadata": {},
   "outputs": [],
   "source": [
    "import pandas as pd\n",
    "from joblib import Parallel, delayed\n",
    "from download_osm_data import *"
   ]
  },
  {
   "cell_type": "markdown",
   "metadata": {},
   "source": [
    "### Download latest osm data"
   ]
  },
  {
   "cell_type": "code",
   "execution_count": 3,
   "metadata": {},
   "outputs": [],
   "source": [
    "#Download data using nominatim geolocator:\n",
    "download_osm_data('rio', 'south-america-latest.osm.pbf', geo_loc = 'Rio De Janeiro, Brazil')"
   ]
  },
  {
   "cell_type": "code",
   "execution_count": 4,
   "metadata": {},
   "outputs": [],
   "source": [
    "# Download data using explicit bounding box:\n",
    "# bbox list -> [lat_start, lat_end, lon_start, lon_end]\n",
    "download_osm_data('rec', 'south-america-latest.osm.pbf', [-8.155187,-7.928967,-35.018648,-34.851540])"
   ]
  },
  {
   "cell_type": "markdown",
   "metadata": {},
   "source": [
    "### Donwload historical osm data"
   ]
  },
  {
   "cell_type": "code",
   "execution_count": 5,
   "metadata": {},
   "outputs": [],
   "source": [
    "download_osm_data('rec_historical', 'south-america-internal.osh.pbf', \n",
    "                    geo_loc = 'Recife, Brazil', history = True)\n",
    "\n",
    "# Here also can use explicit bounding box instead of nominatim geolocator"
   ]
  },
  {
   "cell_type": "markdown",
   "metadata": {},
   "source": [
    "### Download OSM data for all cities at once"
   ]
  },
  {
   "cell_type": "code",
   "execution_count": 3,
   "metadata": {},
   "outputs": [],
   "source": [
    "df = pd.read_csv('data/picked_cities.csv') # To download all: more than 110 cities use all_cities.csv\n",
    "\n",
    "for index, row in df.iterrows():\n",
    "    city = row['abbr']\n",
    "    \n",
    "    bottom_left = eval(row['bottom_left'])\n",
    "    top_right = eval(row['top_right'])\n",
    "    osm_file = 'data/osm/latest/'+row['osm_file']+'-latest.osm.pbf'\n",
    "    bbox = [{'lat': float(bottom_left[0]), 'lon': float(bottom_left[1])}, {'lat': float(top_right[0]), 'lon': float(top_right[1])}] # bottom left, top right\n",
    "\n",
    "    aux = '%f,%f,%f,%f'%(bbox[0]['lon'],bbox[0]['lat'],bbox[1]['lon'],bbox[1]['lat'])\n",
    "    filename = 'data/osm/latest/%s.osm.pbf'%city\n",
    "    \n",
    "    if not os.path.exists(os.path.dirname(filename)):\n",
    "        os.makedirs(os.path.dirname(filename))\n",
    "    \n",
    "    proc = subprocess.call(['osmium', 'extract', '-b', aux, '-o', filename, '--overwrite', osm_file], shell=True)"
   ]
  },
  {
   "cell_type": "markdown",
   "metadata": {},
   "source": [
    "### Download OSM history data for all cities at once"
   ]
  },
  {
   "cell_type": "code",
   "execution_count": 3,
   "metadata": {},
   "outputs": [],
   "source": [
    "df = pd.read_csv('data/picked_cities.csv')\n",
    "\n",
    "for index, row in df.iterrows():\n",
    "    city = row['abbr']\n",
    "    \n",
    "    bottom_left = eval(row['bottom_left'])\n",
    "    top_right = eval(row['top_right'])\n",
    "    osm_file = 'data/osm/historical/'+row['osm_file']+'-internal.osh.pbf'\n",
    "    bbox = [{'lat': float(bottom_left[0]), 'lon': float(bottom_left[1])}, {'lat': float(top_right[0]), 'lon': float(top_right[1])}] # bottom left, top right\n",
    "\n",
    "    aux = '%f,%f,%f,%f'%(bbox[0]['lon'],bbox[0]['lat'],bbox[1]['lon'],bbox[1]['lat'])\n",
    "    filename = 'data/osm/historical/%s.osm.pbf'%city\n",
    "    \n",
    "    if not os.path.exists(os.path.dirname(filename)):\n",
    "        os.makedirs(os.path.dirname(filename))\n",
    "    \n",
    "    proc = subprocess.call(['osmium', 'extract', '-b', aux, '-H', '-o', filename, '--overwrite', osm_file], shell=True)"
   ]
  }
 ],
 "metadata": {
  "kernelspec": {
   "display_name": "Python 3.10.4 ('osm')",
   "language": "python",
   "name": "python3"
  },
  "language_info": {
   "codemirror_mode": {
    "name": "ipython",
    "version": 3
   },
   "file_extension": ".py",
   "mimetype": "text/x-python",
   "name": "python",
   "nbconvert_exporter": "python",
   "pygments_lexer": "ipython3",
   "version": "3.10.4"
  },
  "orig_nbformat": 4,
  "vscode": {
   "interpreter": {
    "hash": "d461307e359c4a471c331ecda36ec4a5d3c3efb8dd7ad3189b4dceca28abdadb"
   }
  }
 },
 "nbformat": 4,
 "nbformat_minor": 2
}
