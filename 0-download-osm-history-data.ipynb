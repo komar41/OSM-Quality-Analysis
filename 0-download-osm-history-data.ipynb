{
 "cells": [
  {
   "cell_type": "code",
   "execution_count": 2,
   "metadata": {},
   "outputs": [],
   "source": [
    "import subprocess\n",
    "import osmium\n",
    "import os\n",
    "from geopy.geocoders import Nominatim"
   ]
  },
  {
   "cell_type": "code",
   "execution_count": null,
   "metadata": {},
   "outputs": [],
   "source": [
    "city_full = 'Recife, Brazil'\n",
    "city = 'rec'\n",
    "filename = 'data/osm/%s.osm.pbf'%(city)\n",
    "input_filename = 'data/osm/south-america-latest.osm.pbf'\n",
    "\n",
    "geolocator = Nominatim(user_agent='uic')\n",
    "location = geolocator.geocode(city_full).raw\n",
    "\n",
    "bbox = [float(x) for x in location['boundingbox']]\n",
    "bbox = [{'lat': bbox[0], 'lon': bbox[2]}, {'lat': bbox[1], 'lon': bbox[3]}] # bottom left, top right"
   ]
  },
  {
   "cell_type": "code",
   "execution_count": null,
   "metadata": {},
   "outputs": [],
   "source": [
    "aux = '%f,%f,%f,%f'%(bbox[0]['lon'],bbox[0]['lat'],bbox[1]['lon'],bbox[1]['lat'])\n",
    "proc = subprocess.call(['osmium', 'extract', '-b', aux, '-o', filename, '--overwrite', input_filename], shell=True) # WSL wasn't required!"
   ]
  },
  {
   "cell_type": "markdown",
   "metadata": {},
   "source": [
    "### Historical data extract from: https://osm-internal.download.geofabrik.de"
   ]
  },
  {
   "cell_type": "code",
   "execution_count": 7,
   "metadata": {},
   "outputs": [],
   "source": [
    "city_full = 'Recife, Brazil'\n",
    "city = 'rec'\n",
    "filename = 'data/osm/%s_historical.osm.pbf'%(city)\n",
    "input_filename = 'data/osm/south-america-internal.osh.pbf'\n",
    "\n",
    "geolocator = Nominatim(user_agent='uic')\n",
    "location = geolocator.geocode(city_full).raw\n",
    "\n",
    "bbox = [float(x) for x in location['boundingbox']]\n",
    "bbox = [{'lat': bbox[0], 'lon': bbox[2]}, {'lat': bbox[1], 'lon': bbox[3]}] # bottom left, top right"
   ]
  },
  {
   "cell_type": "code",
   "execution_count": 9,
   "metadata": {},
   "outputs": [],
   "source": [
    "aux = '%f,%f,%f,%f'%(bbox[0]['lon'],bbox[0]['lat'],bbox[1]['lon'],bbox[1]['lat'])\n",
    "proc = subprocess.call(['osmium', 'extract', '-b', aux, '-H', '-o', filename, '--overwrite', input_filename], shell=True) # WSL wasn't required! Extra -H flag for historical data"
   ]
  }
 ],
 "metadata": {
  "kernelspec": {
   "display_name": "Python 3.10.2 ('osm')",
   "language": "python",
   "name": "python3"
  },
  "language_info": {
   "codemirror_mode": {
    "name": "ipython",
    "version": 3
   },
   "file_extension": ".py",
   "mimetype": "text/x-python",
   "name": "python",
   "nbconvert_exporter": "python",
   "pygments_lexer": "ipython3",
   "version": "3.10.2"
  },
  "orig_nbformat": 4,
  "vscode": {
   "interpreter": {
    "hash": "1feccb4052f9d612ec7bc9e73c7f5fba1e3a3b7c19dc9abf0c136bddc360f360"
   }
  }
 },
 "nbformat": 4,
 "nbformat_minor": 2
}
