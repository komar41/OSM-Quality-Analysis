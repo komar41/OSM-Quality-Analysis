{
 "cells": [
  {
   "cell_type": "code",
   "execution_count": null,
   "metadata": {},
   "outputs": [],
   "source": [
    "'''\n",
    "Convert 1 and 2 into two separate python modules!!\n",
    "'''"
   ]
  },
  {
   "cell_type": "code",
   "execution_count": 69,
   "metadata": {},
   "outputs": [
    {
     "name": "stdout",
     "output_type": "stream",
     "text": [
      "The autoreload extension is already loaded. To reload it, use:\n",
      "  %reload_ext autoreload\n"
     ]
    }
   ],
   "source": [
    "%load_ext autoreload\n",
    "%autoreload 2"
   ]
  },
  {
   "cell_type": "code",
   "execution_count": 93,
   "metadata": {},
   "outputs": [],
   "source": [
    "import geopandas as gpd\n",
    "from shapely.geometry import box\n",
    "import pyrosm\n",
    "\n",
    "import pandas as pd\n",
    "import numpy as np\n",
    "\n",
    "from datetime import datetime\n",
    "\n",
    "from extract_history_data import *\n",
    "from extract_indirect_indicator_features import *\n",
    "from extract_points import *\n",
    "from extract_multipolygons import *\n",
    "from extract_linestrings import *"
   ]
  },
  {
   "cell_type": "markdown",
   "metadata": {},
   "source": [
    "### Handler for historical data"
   ]
  },
  {
   "cell_type": "code",
   "execution_count": 104,
   "metadata": {},
   "outputs": [],
   "source": [
    "h = HistoryHandler()\n",
    "h.apply_file(\"data/osm/historical/rec_historical.osm.pbf\")"
   ]
  },
  {
   "cell_type": "markdown",
   "metadata": {},
   "source": [
    "### Handler for extracting geometries from latest osm data"
   ]
  },
  {
   "cell_type": "code",
   "execution_count": 106,
   "metadata": {},
   "outputs": [],
   "source": [
    "h_n = NodeHandler()\n",
    "h_n.apply_file(\"data/osm/historical/rec.osm.pbf\")\n",
    "\n",
    "h_wr = AreaHandler()\n",
    "h_wr.apply_file(\"data/osm/historical/rec.osm.pbf\")\n",
    "\n",
    "h_roads = WayHandler()\n",
    "h_roads.apply_file(\"data/osm/historical/rec.osm.pbf\", locations = True)"
   ]
  },
  {
   "cell_type": "markdown",
   "metadata": {},
   "source": [
    "Note: the handlers are used several times below for extracting poi, building or roads from OSM data"
   ]
  },
  {
   "cell_type": "markdown",
   "metadata": {},
   "source": [
    "# POI"
   ]
  },
  {
   "cell_type": "markdown",
   "metadata": {},
   "source": [
    "### Extract all nodes, ways, relations from history data that are POIs"
   ]
  },
  {
   "cell_type": "code",
   "execution_count": 110,
   "metadata": {},
   "outputs": [],
   "source": [
    "data_poi = h.get_data(poi_qualifier)\n",
    "colnames = ['id', 'visible', 'ts', 'uid', 'tags', 'osm_type']\n",
    "history = pd.DataFrame(data_poi, columns=colnames)\n",
    "history = history.sort_values(by=['id', 'ts'])"
   ]
  },
  {
   "cell_type": "markdown",
   "metadata": {},
   "source": [
    "### Extract indirect indicator features (nusers and ts) from history data"
   ]
  },
  {
   "cell_type": "code",
   "execution_count": 111,
   "metadata": {},
   "outputs": [],
   "source": [
    "poi = extract_ii_features(history, poi_qualifier)"
   ]
  },
  {
   "cell_type": "markdown",
   "metadata": {},
   "source": [
    "### Extract geometries of all POI"
   ]
  },
  {
   "cell_type": "code",
   "execution_count": 112,
   "metadata": {},
   "outputs": [],
   "source": [
    "poi_n = h_n.get_gdf(poi_qualifier)\n",
    "poi_wr = h_wr.get_gdf(poi_qualifier)\n",
    "\n",
    "poi_geom = pd.concat([poi_n, poi_wr])"
   ]
  },
  {
   "cell_type": "markdown",
   "metadata": {},
   "source": [
    "### Merge POI indirect indicator data with its geometries"
   ]
  },
  {
   "cell_type": "code",
   "execution_count": 113,
   "metadata": {},
   "outputs": [],
   "source": [
    "poi_indir = pd.merge(poi, poi_geom,  how='inner', left_on=['id','osm_type'], right_on = ['id','osm_type'])"
   ]
  },
  {
   "cell_type": "code",
   "execution_count": 114,
   "metadata": {},
   "outputs": [],
   "source": [
    "poi_indir = gpd.GeoDataFrame(poi_indir, crs=\"EPSG:4326\")\n",
    "poi_indir['item_type'] = 'poi'"
   ]
  },
  {
   "cell_type": "markdown",
   "metadata": {},
   "source": [
    "#"
   ]
  },
  {
   "cell_type": "markdown",
   "metadata": {},
   "source": [
    "# Roads"
   ]
  },
  {
   "cell_type": "markdown",
   "metadata": {},
   "source": [
    "### Extract all ways from history data that are roads/streets"
   ]
  },
  {
   "cell_type": "code",
   "execution_count": 115,
   "metadata": {},
   "outputs": [],
   "source": [
    "data_road = h.get_data(highway_qualifier)\n",
    "\n",
    "colnames = ['id', 'visible', 'ts', 'uid', 'tags', 'osm_type']\n",
    "history = pd.DataFrame(data_road, columns=colnames)\n",
    "history = history.sort_values(by=['id', 'ts'])"
   ]
  },
  {
   "cell_type": "markdown",
   "metadata": {},
   "source": [
    "### Extract indirect indicator features (nusers and ts) from history data"
   ]
  },
  {
   "cell_type": "code",
   "execution_count": 116,
   "metadata": {},
   "outputs": [],
   "source": [
    "road = extract_ii_features(history, highway_qualifier)"
   ]
  },
  {
   "cell_type": "markdown",
   "metadata": {},
   "source": [
    "### Extract road geometries using PyrOSM *(PS: Consider doing it with Osmium)*"
   ]
  },
  {
   "cell_type": "code",
   "execution_count": 117,
   "metadata": {},
   "outputs": [],
   "source": [
    "# With PyrOSM:\n",
    "# osm = pyrosm.OSM(\"data/osm/latest/rec.osm.pbf\")\n",
    "# road_geom = osm.get_network()[['id','geometry']] # Will use sidewalks column for workshop paper\n",
    "\n",
    "# Or with Osmium:\n",
    "road_geom = h_roads.get_gdf(highway_qualifier)"
   ]
  },
  {
   "cell_type": "markdown",
   "metadata": {},
   "source": [
    "### Merge road indirect indicator data with its geometries"
   ]
  },
  {
   "cell_type": "code",
   "execution_count": 119,
   "metadata": {},
   "outputs": [],
   "source": [
    "roads_indir = pd.merge(road, road_geom, how='inner', left_on=['id','osm_type'], right_on = ['id','osm_type'])"
   ]
  },
  {
   "cell_type": "code",
   "execution_count": 120,
   "metadata": {},
   "outputs": [],
   "source": [
    "roads_indir = gpd.GeoDataFrame(roads_indir, crs=\"EPSG:4326\")\n",
    "roads_indir['item_type'] = 'road'"
   ]
  },
  {
   "cell_type": "markdown",
   "metadata": {},
   "source": [
    "# Buildings"
   ]
  },
  {
   "cell_type": "markdown",
   "metadata": {},
   "source": [
    "### Extract all ways and relations from history data that are buildings"
   ]
  },
  {
   "cell_type": "code",
   "execution_count": 121,
   "metadata": {},
   "outputs": [],
   "source": [
    "data = h.get_data(building_qualifier)\n",
    "\n",
    "colnames = ['id', 'visible', 'ts', 'uid', 'tags', 'osm_type']\n",
    "history = pd.DataFrame(data, columns=colnames)\n",
    "history = history.sort_values(by=['id', 'ts'])"
   ]
  },
  {
   "cell_type": "markdown",
   "metadata": {},
   "source": [
    "### Extract indirect indicator features (nusers and ts) from history data"
   ]
  },
  {
   "cell_type": "code",
   "execution_count": 122,
   "metadata": {},
   "outputs": [],
   "source": [
    "building = extract_ii_features(history, building_qualifier)"
   ]
  },
  {
   "cell_type": "markdown",
   "metadata": {},
   "source": [
    "### Extract geometries of all buildings"
   ]
  },
  {
   "cell_type": "code",
   "execution_count": 123,
   "metadata": {},
   "outputs": [],
   "source": [
    "building_geom = h_wr.get_gdf(building_qualifier)"
   ]
  },
  {
   "cell_type": "markdown",
   "metadata": {},
   "source": [
    "### Merge building indirect indicator data with its geometries"
   ]
  },
  {
   "cell_type": "code",
   "execution_count": 124,
   "metadata": {},
   "outputs": [],
   "source": [
    "building_indir = pd.merge(building, building_geom,  how='inner', on = ['id', 'osm_type'])"
   ]
  },
  {
   "cell_type": "code",
   "execution_count": 125,
   "metadata": {},
   "outputs": [],
   "source": [
    "building_indir = gpd.GeoDataFrame(building_indir, crs=\"EPSG:4326\")\n",
    "building_indir['item_type'] = 'building'"
   ]
  },
  {
   "cell_type": "code",
   "execution_count": 133,
   "metadata": {},
   "outputs": [
    {
     "data": {
      "text/html": [
       "<div>\n",
       "<style scoped>\n",
       "    .dataframe tbody tr th:only-of-type {\n",
       "        vertical-align: middle;\n",
       "    }\n",
       "\n",
       "    .dataframe tbody tr th {\n",
       "        vertical-align: top;\n",
       "    }\n",
       "\n",
       "    .dataframe thead th {\n",
       "        text-align: right;\n",
       "    }\n",
       "</style>\n",
       "<table border=\"1\" class=\"dataframe\">\n",
       "  <thead>\n",
       "    <tr style=\"text-align: right;\">\n",
       "      <th></th>\n",
       "      <th>id</th>\n",
       "      <th>nusers</th>\n",
       "      <th>ts</th>\n",
       "      <th>osm_type</th>\n",
       "      <th>tags</th>\n",
       "      <th>geometry</th>\n",
       "      <th>item_type</th>\n",
       "    </tr>\n",
       "  </thead>\n",
       "  <tbody>\n",
       "    <tr>\n",
       "      <th>0</th>\n",
       "      <td>2402565</td>\n",
       "      <td>[336460, 8570285, 1122708]</td>\n",
       "      <td>2019-01-25 15:01:07+00:00</td>\n",
       "      <td>R</td>\n",
       "      <td>{'building': 'stadium'}</td>\n",
       "      <td>MULTIPOLYGON (((-3884170.471 -890506.042, -388...</td>\n",
       "      <td>building</td>\n",
       "    </tr>\n",
       "    <tr>\n",
       "      <th>1</th>\n",
       "      <td>2514001</td>\n",
       "      <td>[336460, 612405, 1772368]</td>\n",
       "      <td>2019-05-19 04:37:30+00:00</td>\n",
       "      <td>R</td>\n",
       "      <td>{'addr:housenumber': '1086', 'addr:street': 'A...</td>\n",
       "      <td>MULTIPOLYGON (((-3884767.165 -892038.983, -388...</td>\n",
       "      <td>building</td>\n",
       "    </tr>\n",
       "    <tr>\n",
       "      <th>2</th>\n",
       "      <td>2959361</td>\n",
       "      <td>[651869]</td>\n",
       "      <td>2017-04-09 13:39:57+00:00</td>\n",
       "      <td>R</td>\n",
       "      <td>{'building': 'yes'}</td>\n",
       "      <td>MULTIPOLYGON (((-3886256.787 -904237.600, -388...</td>\n",
       "      <td>building</td>\n",
       "    </tr>\n",
       "    <tr>\n",
       "      <th>3</th>\n",
       "      <td>2959362</td>\n",
       "      <td>[651869]</td>\n",
       "      <td>2017-04-09 13:39:57+00:00</td>\n",
       "      <td>R</td>\n",
       "      <td>{'building': 'yes'}</td>\n",
       "      <td>MULTIPOLYGON (((-3886313.816 -904215.648, -388...</td>\n",
       "      <td>building</td>\n",
       "    </tr>\n",
       "    <tr>\n",
       "      <th>4</th>\n",
       "      <td>2959364</td>\n",
       "      <td>[651869]</td>\n",
       "      <td>2017-04-09 13:39:58+00:00</td>\n",
       "      <td>R</td>\n",
       "      <td>{'building': 'yes'}</td>\n",
       "      <td>MULTIPOLYGON (((-3886251.433 -904154.516, -388...</td>\n",
       "      <td>building</td>\n",
       "    </tr>\n",
       "    <tr>\n",
       "      <th>...</th>\n",
       "      <td>...</td>\n",
       "      <td>...</td>\n",
       "      <td>...</td>\n",
       "      <td>...</td>\n",
       "      <td>...</td>\n",
       "      <td>...</td>\n",
       "      <td>...</td>\n",
       "    </tr>\n",
       "    <tr>\n",
       "      <th>193337</th>\n",
       "      <td>9806910817</td>\n",
       "      <td>[16236481]</td>\n",
       "      <td>2022-06-09 16:44:23+00:00</td>\n",
       "      <td>N</td>\n",
       "      <td>{'amenity': 'place_of_worship', 'name': 'Assem...</td>\n",
       "      <td>POINT (-3884533.283 -881911.919)</td>\n",
       "      <td>poi</td>\n",
       "    </tr>\n",
       "    <tr>\n",
       "      <th>193338</th>\n",
       "      <td>9820145717</td>\n",
       "      <td>[1557079]</td>\n",
       "      <td>2022-06-15 14:27:36+00:00</td>\n",
       "      <td>N</td>\n",
       "      <td>{'addr:housenumber': '313', 'addr:street': 'Ru...</td>\n",
       "      <td>POINT (-3879687.045 -889272.991)</td>\n",
       "      <td>poi</td>\n",
       "    </tr>\n",
       "    <tr>\n",
       "      <th>193339</th>\n",
       "      <td>9831609521</td>\n",
       "      <td>[15781871]</td>\n",
       "      <td>2022-06-19 19:27:29+00:00</td>\n",
       "      <td>N</td>\n",
       "      <td>{'amenity': 'restaurant', 'cuisine': 'pizza', ...</td>\n",
       "      <td>POINT (-3884907.918 -882420.685)</td>\n",
       "      <td>poi</td>\n",
       "    </tr>\n",
       "    <tr>\n",
       "      <th>193340</th>\n",
       "      <td>9863865267</td>\n",
       "      <td>[1557079]</td>\n",
       "      <td>2022-07-03 13:16:04+00:00</td>\n",
       "      <td>N</td>\n",
       "      <td>{'addr:city': 'Olinda', 'addr:housenumber': '1...</td>\n",
       "      <td>POINT (-3879689.650 -889509.998)</td>\n",
       "      <td>poi</td>\n",
       "    </tr>\n",
       "    <tr>\n",
       "      <th>193341</th>\n",
       "      <td>9863909118</td>\n",
       "      <td>[1557079]</td>\n",
       "      <td>2022-07-03 13:36:56+00:00</td>\n",
       "      <td>N</td>\n",
       "      <td>{'name': 'Casa de Bamba', 'tourism': 'hostel'}</td>\n",
       "      <td>POINT (-3884208.008 -894107.356)</td>\n",
       "      <td>poi</td>\n",
       "    </tr>\n",
       "  </tbody>\n",
       "</table>\n",
       "<p>193342 rows × 7 columns</p>\n",
       "</div>"
      ],
      "text/plain": [
       "                id                      nusers                        ts  \\\n",
       "0          2402565  [336460, 8570285, 1122708] 2019-01-25 15:01:07+00:00   \n",
       "1          2514001   [336460, 612405, 1772368] 2019-05-19 04:37:30+00:00   \n",
       "2          2959361                    [651869] 2017-04-09 13:39:57+00:00   \n",
       "3          2959362                    [651869] 2017-04-09 13:39:57+00:00   \n",
       "4          2959364                    [651869] 2017-04-09 13:39:58+00:00   \n",
       "...            ...                         ...                       ...   \n",
       "193337  9806910817                  [16236481] 2022-06-09 16:44:23+00:00   \n",
       "193338  9820145717                   [1557079] 2022-06-15 14:27:36+00:00   \n",
       "193339  9831609521                  [15781871] 2022-06-19 19:27:29+00:00   \n",
       "193340  9863865267                   [1557079] 2022-07-03 13:16:04+00:00   \n",
       "193341  9863909118                   [1557079] 2022-07-03 13:36:56+00:00   \n",
       "\n",
       "       osm_type                                               tags  \\\n",
       "0             R                            {'building': 'stadium'}   \n",
       "1             R  {'addr:housenumber': '1086', 'addr:street': 'A...   \n",
       "2             R                                {'building': 'yes'}   \n",
       "3             R                                {'building': 'yes'}   \n",
       "4             R                                {'building': 'yes'}   \n",
       "...         ...                                                ...   \n",
       "193337        N  {'amenity': 'place_of_worship', 'name': 'Assem...   \n",
       "193338        N  {'addr:housenumber': '313', 'addr:street': 'Ru...   \n",
       "193339        N  {'amenity': 'restaurant', 'cuisine': 'pizza', ...   \n",
       "193340        N  {'addr:city': 'Olinda', 'addr:housenumber': '1...   \n",
       "193341        N     {'name': 'Casa de Bamba', 'tourism': 'hostel'}   \n",
       "\n",
       "                                                 geometry item_type  \n",
       "0       MULTIPOLYGON (((-3884170.471 -890506.042, -388...  building  \n",
       "1       MULTIPOLYGON (((-3884767.165 -892038.983, -388...  building  \n",
       "2       MULTIPOLYGON (((-3886256.787 -904237.600, -388...  building  \n",
       "3       MULTIPOLYGON (((-3886313.816 -904215.648, -388...  building  \n",
       "4       MULTIPOLYGON (((-3886251.433 -904154.516, -388...  building  \n",
       "...                                                   ...       ...  \n",
       "193337                   POINT (-3884533.283 -881911.919)       poi  \n",
       "193338                   POINT (-3879687.045 -889272.991)       poi  \n",
       "193339                   POINT (-3884907.918 -882420.685)       poi  \n",
       "193340                   POINT (-3879689.650 -889509.998)       poi  \n",
       "193341                   POINT (-3884208.008 -894107.356)       poi  \n",
       "\n",
       "[193342 rows x 7 columns]"
      ]
     },
     "execution_count": 133,
     "metadata": {},
     "output_type": "execute_result"
    }
   ],
   "source": [
    "gdf = pd.concat([building_indir, roads_indir, poi_indir])\n",
    "gdf = gdf.reset_index(drop=True)\n",
    "gdf = gpd.GeoDataFrame(gdf, crs=\"EPSG:4326\")\n",
    "gdf = gdf.to_crs('epsg:3395')\n",
    "gdf"
   ]
  },
  {
   "cell_type": "markdown",
   "metadata": {},
   "source": [
    "### Divide geodataframe into 1km * 1km cells and compute the parameters for all buildings w.r.t their cell"
   ]
  },
  {
   "cell_type": "code",
   "execution_count": 21,
   "metadata": {},
   "outputs": [],
   "source": [
    "# Have to make one more consideration: if one building can be part of multiple cell. Do check that tomorrow!!\n",
    "\n",
    "size = 1000\n",
    "xmin, ymin, xmax, ymax= gdf.total_bounds\n",
    "cell_width = cell_height = size\n",
    "\n",
    "indir_indicators = []\n",
    "\n",
    "cell_no = 0 \n",
    "for x0 in np.arange(xmin, xmax+cell_width, cell_width):\n",
    "    for y0 in np.arange(ymin, ymax+cell_height, cell_height):\n",
    "        x1 = x0+cell_width\n",
    "        y1 = y0+cell_height\n",
    "\n",
    "        cell = gdf.cx[x0:x1, y0:y1]\n",
    "        \n",
    "        # short form: uc -> user count, le_time -> last edit time\n",
    "        roads = cell[cell['item_type'] == 'road']\n",
    "        road_cnt, road_uc, road_le_time = compute_ii_indicators(roads)\n",
    "\n",
    "        buildings = cell[cell['item_type'] == 'building']\n",
    "        building_cnt, building_uc, building_le_time = compute_ii_indicators(buildings)\n",
    "\n",
    "        pois = cell[cell['item_type'] == 'poi']\n",
    "        poi_cnt, poi_uc, poi_le_time = compute_ii_indicators(pois)\n",
    "\n",
    "        bid = []\n",
    "        for item in buildings.to_numpy():\n",
    "            bid.append(item[0])\n",
    "\n",
    "        \n",
    "        if(bid):\n",
    "            indir_indicators.append([\n",
    "                                    cell_no,\n",
    "                                    bid, \n",
    "                                    road_cnt, \n",
    "                                    road_uc, \n",
    "                                    road_le_time, \n",
    "                                    building_cnt, \n",
    "                                    building_uc, \n",
    "                                    building_le_time, \n",
    "                                    poi_cnt, poi_uc, \n",
    "                                    poi_le_time\n",
    "                                    ])\n",
    "\n",
    "            cell_no += 1"
   ]
  },
  {
   "cell_type": "code",
   "execution_count": 22,
   "metadata": {},
   "outputs": [],
   "source": [
    "colnames = ['cell_no', 'bid', 'road_cnt', 'road_uc', 'road_le_time', 'building_cnt', 'building_uc', 'building_le_time', 'poi_cnt', 'poi_uc', 'poi_le_time']\n",
    "indir = pd.DataFrame(indir_indicators, columns=colnames)"
   ]
  },
  {
   "cell_type": "code",
   "execution_count": 23,
   "metadata": {},
   "outputs": [
    {
     "data": {
      "text/html": [
       "<div>\n",
       "<style scoped>\n",
       "    .dataframe tbody tr th:only-of-type {\n",
       "        vertical-align: middle;\n",
       "    }\n",
       "\n",
       "    .dataframe tbody tr th {\n",
       "        vertical-align: top;\n",
       "    }\n",
       "\n",
       "    .dataframe thead th {\n",
       "        text-align: right;\n",
       "    }\n",
       "</style>\n",
       "<table border=\"1\" class=\"dataframe\">\n",
       "  <thead>\n",
       "    <tr style=\"text-align: right;\">\n",
       "      <th></th>\n",
       "      <th>cell_no</th>\n",
       "      <th>bid</th>\n",
       "      <th>road_cnt</th>\n",
       "      <th>road_uc</th>\n",
       "      <th>road_le_time</th>\n",
       "      <th>building_cnt</th>\n",
       "      <th>building_uc</th>\n",
       "      <th>building_le_time</th>\n",
       "      <th>poi_cnt</th>\n",
       "      <th>poi_uc</th>\n",
       "      <th>poi_le_time</th>\n",
       "    </tr>\n",
       "  </thead>\n",
       "  <tbody>\n",
       "    <tr>\n",
       "      <th>0</th>\n",
       "      <td>0</td>\n",
       "      <td>[649762976, 649762978, 649762980, 649762982, 8...</td>\n",
       "      <td>28</td>\n",
       "      <td>14</td>\n",
       "      <td>12</td>\n",
       "      <td>23</td>\n",
       "      <td>3</td>\n",
       "      <td>7</td>\n",
       "      <td>0</td>\n",
       "      <td>0</td>\n",
       "      <td>0</td>\n",
       "    </tr>\n",
       "    <tr>\n",
       "      <th>1</th>\n",
       "      <td>1</td>\n",
       "      <td>[649762910, 649762914, 649762916, 649762919, 6...</td>\n",
       "      <td>54</td>\n",
       "      <td>22</td>\n",
       "      <td>8</td>\n",
       "      <td>56</td>\n",
       "      <td>3</td>\n",
       "      <td>22</td>\n",
       "      <td>2</td>\n",
       "      <td>2</td>\n",
       "      <td>70</td>\n",
       "    </tr>\n",
       "    <tr>\n",
       "      <th>2</th>\n",
       "      <td>2</td>\n",
       "      <td>[683804184, 751199360, 751199361, 751199362, 7...</td>\n",
       "      <td>90</td>\n",
       "      <td>24</td>\n",
       "      <td>7</td>\n",
       "      <td>690</td>\n",
       "      <td>2</td>\n",
       "      <td>7</td>\n",
       "      <td>3</td>\n",
       "      <td>2</td>\n",
       "      <td>7</td>\n",
       "    </tr>\n",
       "    <tr>\n",
       "      <th>3</th>\n",
       "      <td>3</td>\n",
       "      <td>[11243064, 12497977, 483259351, 483260229, 484...</td>\n",
       "      <td>157</td>\n",
       "      <td>41</td>\n",
       "      <td>5</td>\n",
       "      <td>996</td>\n",
       "      <td>11</td>\n",
       "      <td>5</td>\n",
       "      <td>45</td>\n",
       "      <td>8</td>\n",
       "      <td>5</td>\n",
       "    </tr>\n",
       "    <tr>\n",
       "      <th>4</th>\n",
       "      <td>4</td>\n",
       "      <td>[590299017, 742250779, 742250780, 742250781, 7...</td>\n",
       "      <td>80</td>\n",
       "      <td>23</td>\n",
       "      <td>10</td>\n",
       "      <td>696</td>\n",
       "      <td>1</td>\n",
       "      <td>20</td>\n",
       "      <td>5</td>\n",
       "      <td>2</td>\n",
       "      <td>40</td>\n",
       "    </tr>\n",
       "    <tr>\n",
       "      <th>...</th>\n",
       "      <td>...</td>\n",
       "      <td>...</td>\n",
       "      <td>...</td>\n",
       "      <td>...</td>\n",
       "      <td>...</td>\n",
       "      <td>...</td>\n",
       "      <td>...</td>\n",
       "      <td>...</td>\n",
       "      <td>...</td>\n",
       "      <td>...</td>\n",
       "      <td>...</td>\n",
       "    </tr>\n",
       "    <tr>\n",
       "      <th>377</th>\n",
       "      <td>377</td>\n",
       "      <td>[885994795]</td>\n",
       "      <td>16</td>\n",
       "      <td>19</td>\n",
       "      <td>8</td>\n",
       "      <td>1</td>\n",
       "      <td>1</td>\n",
       "      <td>20</td>\n",
       "      <td>0</td>\n",
       "      <td>0</td>\n",
       "      <td>0</td>\n",
       "    </tr>\n",
       "    <tr>\n",
       "      <th>378</th>\n",
       "      <td>378</td>\n",
       "      <td>[885900392, 885900397]</td>\n",
       "      <td>7</td>\n",
       "      <td>9</td>\n",
       "      <td>13</td>\n",
       "      <td>2</td>\n",
       "      <td>1</td>\n",
       "      <td>20</td>\n",
       "      <td>0</td>\n",
       "      <td>0</td>\n",
       "      <td>0</td>\n",
       "    </tr>\n",
       "    <tr>\n",
       "      <th>379</th>\n",
       "      <td>379</td>\n",
       "      <td>[153236225, 153236231, 153252396, 153252972, 4...</td>\n",
       "      <td>17</td>\n",
       "      <td>21</td>\n",
       "      <td>9</td>\n",
       "      <td>7</td>\n",
       "      <td>2</td>\n",
       "      <td>71</td>\n",
       "      <td>0</td>\n",
       "      <td>0</td>\n",
       "      <td>0</td>\n",
       "    </tr>\n",
       "    <tr>\n",
       "      <th>380</th>\n",
       "      <td>380</td>\n",
       "      <td>[681001036]</td>\n",
       "      <td>22</td>\n",
       "      <td>25</td>\n",
       "      <td>12</td>\n",
       "      <td>1</td>\n",
       "      <td>1</td>\n",
       "      <td>40</td>\n",
       "      <td>2</td>\n",
       "      <td>2</td>\n",
       "      <td>26</td>\n",
       "    </tr>\n",
       "    <tr>\n",
       "      <th>381</th>\n",
       "      <td>381</td>\n",
       "      <td>[990960082]</td>\n",
       "      <td>13</td>\n",
       "      <td>14</td>\n",
       "      <td>10</td>\n",
       "      <td>1</td>\n",
       "      <td>1</td>\n",
       "      <td>10</td>\n",
       "      <td>0</td>\n",
       "      <td>0</td>\n",
       "      <td>0</td>\n",
       "    </tr>\n",
       "  </tbody>\n",
       "</table>\n",
       "<p>382 rows × 11 columns</p>\n",
       "</div>"
      ],
      "text/plain": [
       "     cell_no                                                bid  road_cnt  \\\n",
       "0          0  [649762976, 649762978, 649762980, 649762982, 8...        28   \n",
       "1          1  [649762910, 649762914, 649762916, 649762919, 6...        54   \n",
       "2          2  [683804184, 751199360, 751199361, 751199362, 7...        90   \n",
       "3          3  [11243064, 12497977, 483259351, 483260229, 484...       157   \n",
       "4          4  [590299017, 742250779, 742250780, 742250781, 7...        80   \n",
       "..       ...                                                ...       ...   \n",
       "377      377                                        [885994795]        16   \n",
       "378      378                             [885900392, 885900397]         7   \n",
       "379      379  [153236225, 153236231, 153252396, 153252972, 4...        17   \n",
       "380      380                                        [681001036]        22   \n",
       "381      381                                        [990960082]        13   \n",
       "\n",
       "     road_uc  road_le_time  building_cnt  building_uc  building_le_time  \\\n",
       "0         14            12            23            3                 7   \n",
       "1         22             8            56            3                22   \n",
       "2         24             7           690            2                 7   \n",
       "3         41             5           996           11                 5   \n",
       "4         23            10           696            1                20   \n",
       "..       ...           ...           ...          ...               ...   \n",
       "377       19             8             1            1                20   \n",
       "378        9            13             2            1                20   \n",
       "379       21             9             7            2                71   \n",
       "380       25            12             1            1                40   \n",
       "381       14            10             1            1                10   \n",
       "\n",
       "     poi_cnt  poi_uc  poi_le_time  \n",
       "0          0       0            0  \n",
       "1          2       2           70  \n",
       "2          3       2            7  \n",
       "3         45       8            5  \n",
       "4          5       2           40  \n",
       "..       ...     ...          ...  \n",
       "377        0       0            0  \n",
       "378        0       0            0  \n",
       "379        0       0            0  \n",
       "380        2       2           26  \n",
       "381        0       0            0  \n",
       "\n",
       "[382 rows x 11 columns]"
      ]
     },
     "execution_count": 23,
     "metadata": {},
     "output_type": "execute_result"
    }
   ],
   "source": [
    "indir"
   ]
  },
  {
   "cell_type": "code",
   "execution_count": 27,
   "metadata": {},
   "outputs": [
    {
     "data": {
      "text/html": [
       "<div>\n",
       "<style scoped>\n",
       "    .dataframe tbody tr th:only-of-type {\n",
       "        vertical-align: middle;\n",
       "    }\n",
       "\n",
       "    .dataframe tbody tr th {\n",
       "        vertical-align: top;\n",
       "    }\n",
       "\n",
       "    .dataframe thead th {\n",
       "        text-align: right;\n",
       "    }\n",
       "</style>\n",
       "<table border=\"1\" class=\"dataframe\">\n",
       "  <thead>\n",
       "    <tr style=\"text-align: right;\">\n",
       "      <th></th>\n",
       "      <th>road_cnt</th>\n",
       "      <th>road_uc</th>\n",
       "      <th>building_cnt</th>\n",
       "      <th>building_uc</th>\n",
       "      <th>building_le_time</th>\n",
       "      <th>poi_cnt</th>\n",
       "      <th>poi_uc</th>\n",
       "      <th>poi_le_time</th>\n",
       "    </tr>\n",
       "  </thead>\n",
       "  <tbody>\n",
       "    <tr>\n",
       "      <th>mean</th>\n",
       "      <td>125.774869</td>\n",
       "      <td>38.65445</td>\n",
       "      <td>379.044503</td>\n",
       "      <td>6.379581</td>\n",
       "      <td>15.651832</td>\n",
       "      <td>27.434555</td>\n",
       "      <td>7.554974</td>\n",
       "      <td>10.861257</td>\n",
       "    </tr>\n",
       "    <tr>\n",
       "      <th>50%</th>\n",
       "      <td>120.000000</td>\n",
       "      <td>39.00000</td>\n",
       "      <td>94.000000</td>\n",
       "      <td>4.000000</td>\n",
       "      <td>9.000000</td>\n",
       "      <td>9.000000</td>\n",
       "      <td>4.000000</td>\n",
       "      <td>6.500000</td>\n",
       "    </tr>\n",
       "  </tbody>\n",
       "</table>\n",
       "</div>"
      ],
      "text/plain": [
       "        road_cnt   road_uc  building_cnt  building_uc  building_le_time  \\\n",
       "mean  125.774869  38.65445    379.044503     6.379581         15.651832   \n",
       "50%   120.000000  39.00000     94.000000     4.000000          9.000000   \n",
       "\n",
       "        poi_cnt    poi_uc  poi_le_time  \n",
       "mean  27.434555  7.554974    10.861257  \n",
       "50%    9.000000  4.000000     6.500000  "
      ]
     },
     "execution_count": 27,
     "metadata": {},
     "output_type": "execute_result"
    }
   ],
   "source": [
    "stats = indir.describe()[['road_cnt', 'road_uc', 'building_cnt', 'building_uc', 'building_le_time', 'poi_cnt', 'poi_uc', 'poi_le_time']]\n",
    "stats.filter(items = ['mean', '50%'], axis=0)"
   ]
  },
  {
   "cell_type": "markdown",
   "metadata": {},
   "source": [
    "# Extract Time Indicator"
   ]
  },
  {
   "cell_type": "code",
   "execution_count": 24,
   "metadata": {},
   "outputs": [],
   "source": [
    "def diff_month(d1, d2):\n",
    "    return (d1.year - d2.year) * 12 + d1.month - d2.month"
   ]
  },
  {
   "cell_type": "code",
   "execution_count": 25,
   "metadata": {},
   "outputs": [],
   "source": [
    "time = gdf[gdf['item_type'] == 'building'][['id','ts']]\n",
    "time['last_edit(months)'] = [diff_month(datetime.now(), row) for row in time['ts']]"
   ]
  },
  {
   "cell_type": "code",
   "execution_count": 26,
   "metadata": {},
   "outputs": [
    {
     "data": {
      "text/html": [
       "<div>\n",
       "<style scoped>\n",
       "    .dataframe tbody tr th:only-of-type {\n",
       "        vertical-align: middle;\n",
       "    }\n",
       "\n",
       "    .dataframe tbody tr th {\n",
       "        vertical-align: top;\n",
       "    }\n",
       "\n",
       "    .dataframe thead th {\n",
       "        text-align: right;\n",
       "    }\n",
       "</style>\n",
       "<table border=\"1\" class=\"dataframe\">\n",
       "  <thead>\n",
       "    <tr style=\"text-align: right;\">\n",
       "      <th></th>\n",
       "      <th>id</th>\n",
       "      <th>ts</th>\n",
       "      <th>last_edit(months)</th>\n",
       "    </tr>\n",
       "  </thead>\n",
       "  <tbody>\n",
       "    <tr>\n",
       "      <th>0</th>\n",
       "      <td>2402565</td>\n",
       "      <td>2019-01-25 15:01:07+00:00</td>\n",
       "      <td>43</td>\n",
       "    </tr>\n",
       "    <tr>\n",
       "      <th>1</th>\n",
       "      <td>2514001</td>\n",
       "      <td>2019-05-19 04:37:30+00:00</td>\n",
       "      <td>39</td>\n",
       "    </tr>\n",
       "    <tr>\n",
       "      <th>2</th>\n",
       "      <td>2959361</td>\n",
       "      <td>2017-04-09 13:39:57+00:00</td>\n",
       "      <td>64</td>\n",
       "    </tr>\n",
       "    <tr>\n",
       "      <th>3</th>\n",
       "      <td>2959362</td>\n",
       "      <td>2017-04-09 13:39:57+00:00</td>\n",
       "      <td>64</td>\n",
       "    </tr>\n",
       "    <tr>\n",
       "      <th>4</th>\n",
       "      <td>2959364</td>\n",
       "      <td>2017-04-09 13:39:58+00:00</td>\n",
       "      <td>64</td>\n",
       "    </tr>\n",
       "    <tr>\n",
       "      <th>...</th>\n",
       "      <td>...</td>\n",
       "      <td>...</td>\n",
       "      <td>...</td>\n",
       "    </tr>\n",
       "    <tr>\n",
       "      <th>140736</th>\n",
       "      <td>1064791239</td>\n",
       "      <td>2022-05-29 07:43:21+00:00</td>\n",
       "      <td>3</td>\n",
       "    </tr>\n",
       "    <tr>\n",
       "      <th>140737</th>\n",
       "      <td>1064791240</td>\n",
       "      <td>2022-05-29 07:43:21+00:00</td>\n",
       "      <td>3</td>\n",
       "    </tr>\n",
       "    <tr>\n",
       "      <th>140738</th>\n",
       "      <td>1070775598</td>\n",
       "      <td>2022-06-17 22:02:40+00:00</td>\n",
       "      <td>2</td>\n",
       "    </tr>\n",
       "    <tr>\n",
       "      <th>140739</th>\n",
       "      <td>1071164414</td>\n",
       "      <td>2022-06-19 03:46:38+00:00</td>\n",
       "      <td>2</td>\n",
       "    </tr>\n",
       "    <tr>\n",
       "      <th>140740</th>\n",
       "      <td>1071828237</td>\n",
       "      <td>2022-06-21 05:17:04+00:00</td>\n",
       "      <td>2</td>\n",
       "    </tr>\n",
       "  </tbody>\n",
       "</table>\n",
       "<p>140741 rows × 3 columns</p>\n",
       "</div>"
      ],
      "text/plain": [
       "                id                        ts  last_edit(months)\n",
       "0          2402565 2019-01-25 15:01:07+00:00                 43\n",
       "1          2514001 2019-05-19 04:37:30+00:00                 39\n",
       "2          2959361 2017-04-09 13:39:57+00:00                 64\n",
       "3          2959362 2017-04-09 13:39:57+00:00                 64\n",
       "4          2959364 2017-04-09 13:39:58+00:00                 64\n",
       "...            ...                       ...                ...\n",
       "140736  1064791239 2022-05-29 07:43:21+00:00                  3\n",
       "140737  1064791240 2022-05-29 07:43:21+00:00                  3\n",
       "140738  1070775598 2022-06-17 22:02:40+00:00                  2\n",
       "140739  1071164414 2022-06-19 03:46:38+00:00                  2\n",
       "140740  1071828237 2022-06-21 05:17:04+00:00                  2\n",
       "\n",
       "[140741 rows x 3 columns]"
      ]
     },
     "execution_count": 26,
     "metadata": {},
     "output_type": "execute_result"
    }
   ],
   "source": [
    "time"
   ]
  },
  {
   "cell_type": "code",
   "execution_count": 31,
   "metadata": {},
   "outputs": [
    {
     "data": {
      "text/html": [
       "<div>\n",
       "<style scoped>\n",
       "    .dataframe tbody tr th:only-of-type {\n",
       "        vertical-align: middle;\n",
       "    }\n",
       "\n",
       "    .dataframe tbody tr th {\n",
       "        vertical-align: top;\n",
       "    }\n",
       "\n",
       "    .dataframe thead th {\n",
       "        text-align: right;\n",
       "    }\n",
       "</style>\n",
       "<table border=\"1\" class=\"dataframe\">\n",
       "  <thead>\n",
       "    <tr style=\"text-align: right;\">\n",
       "      <th></th>\n",
       "      <th>last_edit(months)</th>\n",
       "    </tr>\n",
       "  </thead>\n",
       "  <tbody>\n",
       "    <tr>\n",
       "      <th>mean</th>\n",
       "      <td>33.911746</td>\n",
       "    </tr>\n",
       "    <tr>\n",
       "      <th>50%</th>\n",
       "      <td>32.000000</td>\n",
       "    </tr>\n",
       "  </tbody>\n",
       "</table>\n",
       "</div>"
      ],
      "text/plain": [
       "      last_edit(months)\n",
       "mean          33.911746\n",
       "50%           32.000000"
      ]
     },
     "execution_count": 31,
     "metadata": {},
     "output_type": "execute_result"
    }
   ],
   "source": [
    "stats = time.describe()[['last_edit(months)']]\n",
    "stats.filter(items = ['mean', '50%'], axis=0)"
   ]
  },
  {
   "cell_type": "code",
   "execution_count": null,
   "metadata": {},
   "outputs": [],
   "source": [
    "# If last updated was a long time ago, the paper defines it as more reliable. Seems a bit contradictory! (Shouldn't it be more reliable as we have more new updates )"
   ]
  }
 ],
 "metadata": {
  "kernelspec": {
   "display_name": "Python 3.10.4 ('osm')",
   "language": "python",
   "name": "python3"
  },
  "language_info": {
   "codemirror_mode": {
    "name": "ipython",
    "version": 3
   },
   "file_extension": ".py",
   "mimetype": "text/x-python",
   "name": "python",
   "nbconvert_exporter": "python",
   "pygments_lexer": "ipython3",
   "version": "3.10.4"
  },
  "orig_nbformat": 4,
  "vscode": {
   "interpreter": {
    "hash": "d461307e359c4a471c331ecda36ec4a5d3c3efb8dd7ad3189b4dceca28abdadb"
   }
  }
 },
 "nbformat": 4,
 "nbformat_minor": 2
}
