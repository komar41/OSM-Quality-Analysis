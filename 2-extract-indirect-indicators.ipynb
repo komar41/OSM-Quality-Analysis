{
 "cells": [
  {
   "cell_type": "code",
   "execution_count": 1,
   "metadata": {},
   "outputs": [],
   "source": [
    "%load_ext autoreload\n",
    "%autoreload 2"
   ]
  },
  {
   "cell_type": "code",
   "execution_count": 2,
   "metadata": {},
   "outputs": [],
   "source": [
    "from extract_indirect_indicators import *"
   ]
  },
  {
   "cell_type": "code",
   "execution_count": 2,
   "metadata": {},
   "outputs": [],
   "source": [
    "indir_ind = extract_indirect_indicators('rec')\n",
    "indir_ind.head(10)"
   ]
  },
  {
   "cell_type": "code",
   "execution_count": null,
   "metadata": {},
   "outputs": [
    {
     "data": {
      "text/html": [
       "<div>\n",
       "<style scoped>\n",
       "    .dataframe tbody tr th:only-of-type {\n",
       "        vertical-align: middle;\n",
       "    }\n",
       "\n",
       "    .dataframe tbody tr th {\n",
       "        vertical-align: top;\n",
       "    }\n",
       "\n",
       "    .dataframe thead th {\n",
       "        text-align: right;\n",
       "    }\n",
       "</style>\n",
       "<table border=\"1\" class=\"dataframe\">\n",
       "  <thead>\n",
       "    <tr style=\"text-align: right;\">\n",
       "      <th></th>\n",
       "      <th>road_cnt</th>\n",
       "      <th>road_uc</th>\n",
       "      <th>building_cnt</th>\n",
       "      <th>building_uc</th>\n",
       "      <th>building_le_time</th>\n",
       "      <th>poi_cnt</th>\n",
       "      <th>poi_uc</th>\n",
       "      <th>poi_le_time</th>\n",
       "    </tr>\n",
       "  </thead>\n",
       "  <tbody>\n",
       "    <tr>\n",
       "      <th>mean</th>\n",
       "      <td>100.356113</td>\n",
       "      <td>37.240353</td>\n",
       "      <td>420.692236</td>\n",
       "      <td>8.147373</td>\n",
       "      <td>9.445374</td>\n",
       "      <td>17.160855</td>\n",
       "      <td>7.992562</td>\n",
       "      <td>9.806137</td>\n",
       "    </tr>\n",
       "    <tr>\n",
       "      <th>25%</th>\n",
       "      <td>50.000000</td>\n",
       "      <td>27.000000</td>\n",
       "      <td>8.000000</td>\n",
       "      <td>4.000000</td>\n",
       "      <td>2.000000</td>\n",
       "      <td>3.000000</td>\n",
       "      <td>3.000000</td>\n",
       "      <td>0.000000</td>\n",
       "    </tr>\n",
       "    <tr>\n",
       "      <th>50%</th>\n",
       "      <td>81.000000</td>\n",
       "      <td>36.000000</td>\n",
       "      <td>81.000000</td>\n",
       "      <td>6.000000</td>\n",
       "      <td>4.000000</td>\n",
       "      <td>9.000000</td>\n",
       "      <td>6.000000</td>\n",
       "      <td>2.000000</td>\n",
       "    </tr>\n",
       "  </tbody>\n",
       "</table>\n",
       "</div>"
      ],
      "text/plain": [
       "        road_cnt    road_uc  building_cnt  building_uc  building_le_time  \\\n",
       "mean  100.356113  37.240353    420.692236     8.147373          9.445374   \n",
       "25%    50.000000  27.000000      8.000000     4.000000          2.000000   \n",
       "50%    81.000000  36.000000     81.000000     6.000000          4.000000   \n",
       "\n",
       "        poi_cnt    poi_uc  poi_le_time  \n",
       "mean  17.160855  7.992562     9.806137  \n",
       "25%    3.000000  3.000000     0.000000  \n",
       "50%    9.000000  6.000000     2.000000  "
      ]
     },
     "execution_count": 11,
     "metadata": {},
     "output_type": "execute_result"
    }
   ],
   "source": [
    "stats = get_stats_indir(indir_ind)\n",
    "stats"
   ]
  }
 ],
 "metadata": {
  "kernelspec": {
   "display_name": "Python 3.10.4 ('osm')",
   "language": "python",
   "name": "python3"
  },
  "language_info": {
   "codemirror_mode": {
    "name": "ipython",
    "version": 3
   },
   "file_extension": ".py",
   "mimetype": "text/x-python",
   "name": "python",
   "nbconvert_exporter": "python",
   "pygments_lexer": "ipython3",
   "version": "3.10.4"
  },
  "orig_nbformat": 4,
  "vscode": {
   "interpreter": {
    "hash": "d461307e359c4a471c331ecda36ec4a5d3c3efb8dd7ad3189b4dceca28abdadb"
   }
  }
 },
 "nbformat": 4,
 "nbformat_minor": 2
}
