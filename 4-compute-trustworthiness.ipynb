{
 "cells": [
  {
   "cell_type": "code",
   "execution_count": 2,
   "metadata": {},
   "outputs": [],
   "source": [
    "%load_ext autoreload\n",
    "%autoreload 2"
   ]
  },
  {
   "cell_type": "code",
   "execution_count": 45,
   "metadata": {},
   "outputs": [],
   "source": [
    "from util import *\n",
    "from extract_direct_indicators import *\n",
    "from extract_indirect_indicators import *\n",
    "from extract_time_indicator import *"
   ]
  },
  {
   "cell_type": "markdown",
   "metadata": {},
   "source": [
    "### Direct Indicator"
   ]
  },
  {
   "cell_type": "code",
   "execution_count": 57,
   "metadata": {},
   "outputs": [],
   "source": [
    "dir_ind = extract_direct_indicators(sidewalk_qualifer, 'rec')\n",
    "dir_ind = dir_ind[dir_ind['visibility'] == 'V'] # Exclude deleted or changed entries\n",
    "stats = get_stats_dir(dir_ind)\n",
    "# Using ceil(mean) as central tendency measure\n",
    "stats = stats.loc['mean'].apply(np.ceil).to_dict()"
   ]
  },
  {
   "cell_type": "code",
   "execution_count": 58,
   "metadata": {},
   "outputs": [],
   "source": [
    "def compute_dir(**kwargs):\n",
    "    res = dict()\n",
    "    for key in kwargs:\n",
    "        res[key]  = 1 if kwargs[key] >= stats[key] else 0\n",
    "\n",
    "    Wnum, Wdir_c, Wuc, Wedit, WrollB, WTag = 0.2, 0.2, 0.2, 0.1, 0.1, 0.2\n",
    "    Td = (Wnum * res['nversions']) + (Wdir_c * res['dir_confirmations']) + \\\n",
    "         (Wuc * res['nusers']) + (Wedit * res['nedits']) + \\\n",
    "         (WrollB * res['nrollbacks']) + (WTag * res['ntags'])\n",
    "\n",
    "    return Td\n",
    "\n",
    "dir_ind['Td'] = dir_ind.apply(lambda row: compute_dir(\n",
    "                                                    nversions = row.nversions, \n",
    "                                                    dir_confirmations = row.dir_confirmations, \n",
    "                                                    nusers = row.nusers, \n",
    "                                                    nedits = row.nedits, \n",
    "                                                    nrollbacks = row.nrollbacks, \n",
    "                                                    ntags = row.ntags\n",
    "                                                    ), \n",
    "                                                    axis=1)"
   ]
  },
  {
   "cell_type": "markdown",
   "metadata": {},
   "source": [
    "### Time Indicator"
   ]
  },
  {
   "cell_type": "code",
   "execution_count": 63,
   "metadata": {},
   "outputs": [],
   "source": [
    "time_ind = extract_time_indicator(sidewalk_qualifer, 'rec')\n",
    "stats = get_stats(time_ind)\n",
    "avg = stats.loc['mean'].apply(np.ceil)[0] # Average last edit\n",
    "time_ind['Ttime'] = time_ind.apply(lambda row: 1 if row['last_edit(months)'] >= avg else 0, axis=1)"
   ]
  },
  {
   "cell_type": "code",
   "execution_count": 52,
   "metadata": {},
   "outputs": [
    {
     "data": {
      "text/html": [
       "<div>\n",
       "<style scoped>\n",
       "    .dataframe tbody tr th:only-of-type {\n",
       "        vertical-align: middle;\n",
       "    }\n",
       "\n",
       "    .dataframe tbody tr th {\n",
       "        vertical-align: top;\n",
       "    }\n",
       "\n",
       "    .dataframe thead th {\n",
       "        text-align: right;\n",
       "    }\n",
       "</style>\n",
       "<table border=\"1\" class=\"dataframe\">\n",
       "  <thead>\n",
       "    <tr style=\"text-align: right;\">\n",
       "      <th></th>\n",
       "      <th>id</th>\n",
       "      <th>ts</th>\n",
       "      <th>last_edit(months)</th>\n",
       "    </tr>\n",
       "  </thead>\n",
       "  <tbody>\n",
       "    <tr>\n",
       "      <th>0</th>\n",
       "      <td>379240246</td>\n",
       "      <td>2020-09-15 05:46:49+00:00</td>\n",
       "      <td>23</td>\n",
       "    </tr>\n",
       "    <tr>\n",
       "      <th>1</th>\n",
       "      <td>379240248</td>\n",
       "      <td>2021-07-20 23:16:22+00:00</td>\n",
       "      <td>13</td>\n",
       "    </tr>\n",
       "    <tr>\n",
       "      <th>2</th>\n",
       "      <td>482849683</td>\n",
       "      <td>2019-08-01 17:15:19+00:00</td>\n",
       "      <td>36</td>\n",
       "    </tr>\n",
       "    <tr>\n",
       "      <th>3</th>\n",
       "      <td>483240568</td>\n",
       "      <td>2020-02-11 01:24:12+00:00</td>\n",
       "      <td>30</td>\n",
       "    </tr>\n",
       "    <tr>\n",
       "      <th>4</th>\n",
       "      <td>491692399</td>\n",
       "      <td>2017-05-05 23:54:22+00:00</td>\n",
       "      <td>63</td>\n",
       "    </tr>\n",
       "    <tr>\n",
       "      <th>...</th>\n",
       "      <td>...</td>\n",
       "      <td>...</td>\n",
       "      <td>...</td>\n",
       "    </tr>\n",
       "    <tr>\n",
       "      <th>269</th>\n",
       "      <td>1035042936</td>\n",
       "      <td>2022-02-25 11:15:29+00:00</td>\n",
       "      <td>6</td>\n",
       "    </tr>\n",
       "    <tr>\n",
       "      <th>270</th>\n",
       "      <td>1035042938</td>\n",
       "      <td>2022-02-25 11:15:29+00:00</td>\n",
       "      <td>6</td>\n",
       "    </tr>\n",
       "    <tr>\n",
       "      <th>271</th>\n",
       "      <td>1035042941</td>\n",
       "      <td>2022-02-25 11:15:29+00:00</td>\n",
       "      <td>6</td>\n",
       "    </tr>\n",
       "    <tr>\n",
       "      <th>272</th>\n",
       "      <td>1035042942</td>\n",
       "      <td>2022-02-25 11:15:29+00:00</td>\n",
       "      <td>6</td>\n",
       "    </tr>\n",
       "    <tr>\n",
       "      <th>273</th>\n",
       "      <td>1037772574</td>\n",
       "      <td>2022-03-06 16:46:07+00:00</td>\n",
       "      <td>5</td>\n",
       "    </tr>\n",
       "  </tbody>\n",
       "</table>\n",
       "<p>274 rows × 3 columns</p>\n",
       "</div>"
      ],
      "text/plain": [
       "             id                        ts  last_edit(months)\n",
       "0     379240246 2020-09-15 05:46:49+00:00                 23\n",
       "1     379240248 2021-07-20 23:16:22+00:00                 13\n",
       "2     482849683 2019-08-01 17:15:19+00:00                 36\n",
       "3     483240568 2020-02-11 01:24:12+00:00                 30\n",
       "4     491692399 2017-05-05 23:54:22+00:00                 63\n",
       "..          ...                       ...                ...\n",
       "269  1035042936 2022-02-25 11:15:29+00:00                  6\n",
       "270  1035042938 2022-02-25 11:15:29+00:00                  6\n",
       "271  1035042941 2022-02-25 11:15:29+00:00                  6\n",
       "272  1035042942 2022-02-25 11:15:29+00:00                  6\n",
       "273  1037772574 2022-03-06 16:46:07+00:00                  5\n",
       "\n",
       "[274 rows x 3 columns]"
      ]
     },
     "execution_count": 52,
     "metadata": {},
     "output_type": "execute_result"
    }
   ],
   "source": [
    "time_ind"
   ]
  },
  {
   "cell_type": "code",
   "execution_count": null,
   "metadata": {},
   "outputs": [],
   "source": [
    "# T(F) = Td(F).Wd + Ti(F).Wi + Ttime(F).Wtime\n",
    "# Wd = 0.5\n",
    "# Wi = 0.25\n",
    "# Wtime = 0.25\n",
    "\n",
    "# Td(F) = (Wnum.V_num) + (Wdir_c.Dir_C) + (Wuc.UC) + (Wedit.Tag_edits) + (WrollB.RollBk) + (WTag.Tag)\n",
    "# Wnum = 0.2\n",
    "# Wdir_c = 0.2\n",
    "# Wuc = 0.2\n",
    "# Wedit = 0.1\n",
    "# WrollB = 0.1\n",
    "# WTag = 0.2"
   ]
  },
  {
   "cell_type": "code",
   "execution_count": null,
   "metadata": {},
   "outputs": [],
   "source": [
    "# To measure trustworthiness of sidewalk data: dir/indir indicators of the *road* that is associated with that sidewalk!\n",
    "\n",
    "# Two steps:\n",
    "\n",
    "# Check if sidewalk-data availabile or not. Four cases:\n",
    "    # i) Partial availability (Case 1): sidewalk geometry available but tag is not available on the associated road\n",
    "    # ii) Partial availability (Case 2): sidewalk geometry not availble, but sidewalk tag (yes/ left/ right/ both) is on the road\n",
    "    # iii) Full availibility: Both sidewalk geometry and sidewalk tag on the associated road are available. Or, if sidewalk is not there then tag is (no/none)\n",
    "    # iv) Unavailable: Neither geometry nor the tag of associated road is available\n",
    "\n",
    "# if available, check if the associated road data is trustworthy or not"
   ]
  },
  {
   "cell_type": "code",
   "execution_count": null,
   "metadata": {},
   "outputs": [],
   "source": [
    "# Change indirect indicator for sidewalks\n",
    "# previously poi, buildings, roads and had lists of buildings per cell\n",
    "# Now measure: poi, buildings, roads(except sidewalks) and sidewalks. Then compute cells for sidewalks with ids. Finally for each sidewalk compute indir ind\n",
    "\n",
    "# feature availability for sidewalk:left, sidewalk:right, sidewalk:both\n",
    "# If sidewalk features are also and mostly available on associated roads, then we have to change approach. Discuss with professor!!"
   ]
  },
  {
   "cell_type": "code",
   "execution_count": null,
   "metadata": {},
   "outputs": [],
   "source": [
    "# Indirect and time indicator measurable\n",
    "# But direct indicator not so as sidewalk data only started to increase in recent times and barely have 2 tags only!! Still have to explore more for it"
   ]
  },
  {
   "cell_type": "code",
   "execution_count": null,
   "metadata": {},
   "outputs": [],
   "source": [
    "# Instead of storing the pbf files for history o rlatest osm\n",
    "# extract and store nodes, ways, relations (for latest osm data)\n",
    "# and also other important attributes required (required for dir/indir indicators) for hisotrical data \n",
    "# create dataframes and store them in feather files!!\n",
    "\n",
    "# And then extract them for direct or indirect indicators and use accordingly (Have to change a lot of code for that!!)"
   ]
  }
 ],
 "metadata": {
  "kernelspec": {
   "display_name": "Python 3.10.4 ('osm')",
   "language": "python",
   "name": "python3"
  },
  "language_info": {
   "codemirror_mode": {
    "name": "ipython",
    "version": 3
   },
   "file_extension": ".py",
   "mimetype": "text/x-python",
   "name": "python",
   "nbconvert_exporter": "python",
   "pygments_lexer": "ipython3",
   "version": "3.10.4"
  },
  "orig_nbformat": 4,
  "vscode": {
   "interpreter": {
    "hash": "d461307e359c4a471c331ecda36ec4a5d3c3efb8dd7ad3189b4dceca28abdadb"
   }
  }
 },
 "nbformat": 4,
 "nbformat_minor": 2
}
