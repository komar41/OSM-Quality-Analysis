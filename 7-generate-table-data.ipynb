{
 "cells": [
  {
   "cell_type": "code",
   "execution_count": 10,
   "metadata": {},
   "outputs": [],
   "source": [
    "from collections import defaultdict\n",
    "from extract_latest_data import *\n",
    "from util import *"
   ]
  },
  {
   "cell_type": "code",
   "execution_count": 29,
   "metadata": {},
   "outputs": [
    {
     "name": "stdout",
     "output_type": "stream",
     "text": [
      "City: %s sea\n",
      "{'motorway': 0.41232873747321486, 'link_roads': 0.9523603385208113, 'others': 4.833228717993117, 'primary': 1.5670656479296985, 'footway': 48.825782991710135, 'tertiary': 2.099521655375425, 'service': 26.853314863314647, 'secondary': 3.049717538581416, 'trunk': 0.10605831042618125, 'residential': 11.300621198675353}\n",
      "City: %s chi\n",
      "{'primary': 3.803842876384728, 'secondary': 6.136507325654911, 'tertiary': 1.803787899612414, 'residential': 13.676571648478516, 'link_roads': 1.1105308007366888, 'motorway': 0.8994199950520905, 'others': 3.6559553588608815, 'trunk': 0.10115726105720334, 'footway': 23.428351521482174, 'service': 45.383875312680395}\n",
      "City: %s nyc\n",
      "{'primary': 3.1746324944200723, 'secondary': 3.33317940429462, 'residential': 15.378434541676286, 'tertiary': 2.4077580235511427, 'service': 25.417070730393288, 'link_roads': 2.212268144385438, 'others': 3.4729469714461634, 'footway': 42.63218656199492, 'motorway': 1.4709458939428923, 'trunk': 0.5005772338951743}\n"
     ]
    }
   ],
   "source": [
    "cities = ['sea', 'chi','nyc']\n",
    "\n",
    "for city in cities:\n",
    "    l = LatestHandler()\n",
    "    l.read_parsed_data(city)\n",
    "    highways = l.filter_data(highway_qualifier)\n",
    "\n",
    "    road_type = ['motorway', 'primary', 'secondary', 'tertiary', 'residential', 'trunk', 'others']\n",
    "    link_roads = [\n",
    "                'motorway_link',\n",
    "                'primary_link',\n",
    "                'secondary_link',\n",
    "                'tertiary_link',\n",
    "                'trunk_link'\n",
    "                ]\n",
    "    count = defaultdict(int)\n",
    "    total = 0\n",
    "\n",
    "    for row in highways:\n",
    "        r_type = row[1].get('highway')\n",
    "\n",
    "        if(r_type in link_roads):\n",
    "            count['link_roads'] += 1\n",
    "\n",
    "        elif(r_type in ['service', 'services']):\n",
    "            count['service'] += 1\n",
    "\n",
    "        elif(r_type in ['footway', 'pedestrian']):\n",
    "            count['footway'] += 1\n",
    "\n",
    "        elif(r_type in road_type):\n",
    "            count[r_type] += 1\n",
    "\n",
    "        else:\n",
    "            count['others'] += 1\n",
    "\n",
    "        total += 1\n",
    "    \n",
    "    count = {k: (v / total) * 100 for k, v in count.items()}\n",
    "\n",
    "    print('City: %s', city)\n",
    "    print(count)"
   ]
  },
  {
   "cell_type": "code",
   "execution_count": null,
   "metadata": {},
   "outputs": [],
   "source": [
    "cities = ['sea', 'chi','nyc']\n",
    "\n",
    "for city in cities:\n",
    "    l = LatestHandler()\n",
    "    l.read_parsed_data(city)\n",
    "    highways = l.filter_data(highway_qualifier)\n",
    "\n",
    "    road_type = ['motorway', 'primary', 'secondary', 'tertiary', 'residential', 'trunk', 'others']\n",
    "    link_roads = [\n",
    "                'motorway_link',\n",
    "                'primary_link',\n",
    "                'secondary_link',\n",
    "                'tertiary_link',\n",
    "                'trunk_link'\n",
    "                ]\n",
    "    count = defaultdict(int)\n",
    "    total = 0\n",
    "\n",
    "    for row in highways:\n",
    "        r_type = row[1].get('highway')\n",
    "\n",
    "        if(r_type in link_roads):\n",
    "            count['link_roads'] += 1\n",
    "\n",
    "        elif(r_type in ['service', 'services']):\n",
    "            count['service'] += 1\n",
    "\n",
    "        elif(r_type in ['footway', 'pedestrian']):\n",
    "            count['footway'] += 1\n",
    "\n",
    "        elif(r_type in road_type):\n",
    "            count[r_type] += 1\n",
    "\n",
    "        else:\n",
    "            count['others'] += 1\n",
    "\n",
    "        total += 1\n",
    "    \n",
    "    count = {k: (v / total) * 100 for k, v in count.items()}\n",
    "\n",
    "    print('City: %s', city)\n",
    "    print(count)"
   ]
  }
 ],
 "metadata": {
  "kernelspec": {
   "display_name": "Python 3.10.4 ('osm')",
   "language": "python",
   "name": "python3"
  },
  "language_info": {
   "codemirror_mode": {
    "name": "ipython",
    "version": 3
   },
   "file_extension": ".py",
   "mimetype": "text/x-python",
   "name": "python",
   "nbconvert_exporter": "python",
   "pygments_lexer": "ipython3",
   "version": "3.10.4"
  },
  "orig_nbformat": 4,
  "vscode": {
   "interpreter": {
    "hash": "d461307e359c4a471c331ecda36ec4a5d3c3efb8dd7ad3189b4dceca28abdadb"
   }
  }
 },
 "nbformat": 4,
 "nbformat_minor": 2
}
