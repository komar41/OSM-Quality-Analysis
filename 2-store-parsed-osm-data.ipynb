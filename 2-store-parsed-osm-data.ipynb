{
 "cells": [
  {
   "cell_type": "code",
   "execution_count": 1,
   "metadata": {},
   "outputs": [],
   "source": [
    "%load_ext autoreload\n",
    "%autoreload 2"
   ]
  },
  {
   "cell_type": "code",
   "execution_count": 2,
   "metadata": {},
   "outputs": [],
   "source": [
    "import pickle\n",
    "\n",
    "from extract_history_data import *\n",
    "from extract_latest_data import *"
   ]
  },
  {
   "cell_type": "markdown",
   "metadata": {},
   "source": [
    "### **Parse** OSM historical data and **store** as pickle"
   ]
  },
  {
   "cell_type": "code",
   "execution_count": 8,
   "metadata": {},
   "outputs": [],
   "source": [
    "df = pd.read_csv('data/picked_cities.csv')\n",
    "\n",
    "for index, row in df.iterrows():\n",
    "    city = row['abbr']\n",
    "    h = HistoryHandler()\n",
    "    h.apply_file(\"data/osm/historical/\" + city + \"_historical.osm.pbf\")\n",
    "\n",
    "    pickle_out = open(\"data/parsed_osm/historical/\" + city + \"_historical.pickle\",\"wb\") \n",
    "    pickle.dump(h.history, pickle_out)\n",
    "    pickle_out.close()"
   ]
  },
  {
   "cell_type": "markdown",
   "metadata": {},
   "source": [
    "### **Parse** OSM Latest data and **store** as pickle"
   ]
  },
  {
   "cell_type": "code",
   "execution_count": 4,
   "metadata": {},
   "outputs": [],
   "source": [
    "df = pd.read_csv('data/picked_cities.csv')\n",
    "\n",
    "for index, row in df.iterrows():\n",
    "    city = row['abbr']\n",
    "    l = LatestHandler()\n",
    "    l.apply_file(\"data/osm/latest/\" + city + \".osm.pbf\")\n",
    "\n",
    "    pickle_out = open(\"data/parsed_osm/latest/\" + city + \".pickle\",\"wb\") \n",
    "    pickle.dump(l.latest, pickle_out)\n",
    "    pickle_out.close()"
   ]
  },
  {
   "cell_type": "code",
   "execution_count": null,
   "metadata": {},
   "outputs": [],
   "source": []
  }
 ],
 "metadata": {
  "kernelspec": {
   "display_name": "Python 3.10.4 ('osm')",
   "language": "python",
   "name": "python3"
  },
  "language_info": {
   "codemirror_mode": {
    "name": "ipython",
    "version": 3
   },
   "file_extension": ".py",
   "mimetype": "text/x-python",
   "name": "python",
   "nbconvert_exporter": "python",
   "pygments_lexer": "ipython3",
   "version": "3.10.4"
  },
  "orig_nbformat": 4,
  "vscode": {
   "interpreter": {
    "hash": "d461307e359c4a471c331ecda36ec4a5d3c3efb8dd7ad3189b4dceca28abdadb"
   }
  }
 },
 "nbformat": 4,
 "nbformat_minor": 2
}
