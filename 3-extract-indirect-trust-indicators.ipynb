{
 "cells": [
  {
   "cell_type": "code",
   "execution_count": 3,
   "metadata": {},
   "outputs": [],
   "source": [
    "import pandas as pd\n",
    "import geopandas as gpd\n",
    "import numpy as np\n",
    "import osmium\n",
    "import re\n",
    "import warnings\n",
    "import matplotlib.pyplot as plt\n",
    "\n",
    "from tqdm.notebook import trange, tqdm\n",
    "from shapely.ops import split, snap, unary_union, polygonize, linemerge\n",
    "from shapely.geometry import MultiPolygon, Polygon, MultiLineString, LineString, Point, MultiPoint, box, polygon\n",
    "from pyproj import Transformer"
   ]
  },
  {
   "cell_type": "code",
   "execution_count": 76,
   "metadata": {},
   "outputs": [],
   "source": [
    "class RelationHandler(osmium.SimpleHandler):\n",
    "\n",
    "    def __init__(self):\n",
    "        osmium.SimpleHandler.__init__(self)\n",
    "        self.count_bid = 0\n",
    "        self.area_to_bid = {}\n",
    "        self.relation_to_bid = {}\n",
    "\n",
    "    def get_area_to_bid(self):\n",
    "        return self.area_to_bid\n",
    "    \n",
    "    def get_relation_to_bid(self):\n",
    "        return self.relation_to_bid\n",
    "        \n",
    "    def relation(self, r):\n",
    "        tags = dict(r.tags)\n",
    "        \n",
    "        # Qualifiers\n",
    "        if not ('building' in tags or 'building:part' in tags or tags.get('type') == 'building'):\n",
    "            return\n",
    "        # Disqualifiers\n",
    "        if (tags.get('location') == 'underground' or 'bridge' in tags):\n",
    "            return\n",
    "        \n",
    "        if r.id not in self.relation_to_bid:\n",
    "            self.relation_to_bid[r.id] = self.count_bid # Add the relation_ids as count bid: map[11571471] = 0, map[11271912] = 1, ...\n",
    "            self.count_bid +=1\n",
    "        \n",
    "        for member in r.members:\n",
    "            if member.ref not in self.area_to_bid:\n",
    "                self.area_to_bid[member.ref] = self.relation_to_bid[r.id] # map the ways of that relation_id as same count -> map[121314] = 0 (part of 11571471)\n",
    "\n",
    "class AreaHandler(osmium.SimpleHandler):\n",
    "\n",
    "    def __init__(self, area_to_bid, relation_to_bid):\n",
    "        osmium.SimpleHandler.__init__(self)\n",
    "        self.id = []\n",
    "        self.orig_id = []\n",
    "        self.building_id = []\n",
    "        self.tag = []\n",
    "        self.geometry = []\n",
    "        self.wkbfab = osmium.geom.WKBFactory()\n",
    "        \n",
    "        self.area_to_bid = area_to_bid\n",
    "        self.relation_to_bid = relation_to_bid\n",
    "        self.max_bid = max(self.area_to_bid, key=area_to_bid.get)\n",
    "        self.max_bid = max(self.max_bid,max(self.relation_to_bid, key=relation_to_bid.get))\n",
    "\n",
    "    def get_gdf(self):\n",
    "        geometry = gpd.GeoSeries.from_wkb(self.geometry, crs='epsg:4326')\n",
    "        tag = pd.Series(self.tag)\n",
    "        iid = pd.Series(self.id, dtype='UInt64')\n",
    "        orig_id = pd.Series(self.orig_id, dtype='UInt64')\n",
    "        building_id = pd.Series(self.building_id, dtype='UInt64')\n",
    "        \n",
    "        return gpd.GeoDataFrame({\n",
    "            'id': iid,\n",
    "            'orig_id': orig_id,\n",
    "            'building_id': building_id,\n",
    "            'geometry': geometry,\n",
    "            'tags': tag\n",
    "        }, index=geometry.index)\n",
    "    \n",
    "    def area(self, a):\n",
    "        tags = dict(a.tags)\n",
    "        iid = int(a.id)\n",
    "        orig_id = int(a.orig_id())\n",
    "        \n",
    "        # Qualifiers\n",
    "        if not ('building' in tags or 'building:part' in tags or tags.get('type') == 'building'):\n",
    "            return\n",
    "        # Disqualifiers\n",
    "        if (tags.get('location') == 'underground' or 'bridge' in tags):\n",
    "            return\n",
    "        \n",
    "        if orig_id in self.area_to_bid:\n",
    "            # print(orig_id)\n",
    "            building_id = self.area_to_bid[orig_id]\n",
    "        elif orig_id in self.relation_to_bid:\n",
    "            building_id = self.relation_to_bid[orig_id]\n",
    "        else:\n",
    "            building_id = self.max_bid\n",
    "            self.max_bid+=1\n",
    "        \n",
    "        try:\n",
    "            poly = self.wkbfab.create_multipolygon(a)\n",
    "            self.geometry.append(poly)\n",
    "            self.tag.append(tags)\n",
    "            self.id.append(iid)\n",
    "            self.orig_id.append(orig_id)\n",
    "            self.building_id.append(building_id)\n",
    "            \n",
    "        except Exception as e:\n",
    "            print(e)\n",
    "            print(a)"
   ]
  },
  {
   "cell_type": "code",
   "execution_count": 77,
   "metadata": {},
   "outputs": [],
   "source": [
    "h = RelationHandler()\n",
    "h.apply_file('data/osm/rec.osm.pbf', locations=True)\n",
    "area_to_bid = h.get_area_to_bid()\n",
    "relation_to_bid = h.get_relation_to_bid()"
   ]
  },
  {
   "cell_type": "code",
   "execution_count": 78,
   "metadata": {},
   "outputs": [],
   "source": [
    "h = AreaHandler(area_to_bid, relation_to_bid)\n",
    "h.apply_file('data/osm/rec.osm.pbf', locations=True)"
   ]
  },
  {
   "cell_type": "code",
   "execution_count": 79,
   "metadata": {},
   "outputs": [
    {
     "data": {
      "text/html": [
       "<div>\n",
       "<style scoped>\n",
       "    .dataframe tbody tr th:only-of-type {\n",
       "        vertical-align: middle;\n",
       "    }\n",
       "\n",
       "    .dataframe tbody tr th {\n",
       "        vertical-align: top;\n",
       "    }\n",
       "\n",
       "    .dataframe thead th {\n",
       "        text-align: right;\n",
       "    }\n",
       "</style>\n",
       "<table border=\"1\" class=\"dataframe\">\n",
       "  <thead>\n",
       "    <tr style=\"text-align: right;\">\n",
       "      <th></th>\n",
       "      <th>id</th>\n",
       "      <th>orig_id</th>\n",
       "      <th>building_id</th>\n",
       "      <th>geometry</th>\n",
       "      <th>tags</th>\n",
       "    </tr>\n",
       "  </thead>\n",
       "  <tbody>\n",
       "    <tr>\n",
       "      <th>0</th>\n",
       "      <td>103632422</td>\n",
       "      <td>51816211</td>\n",
       "      <td>372613649</td>\n",
       "      <td>MULTIPOLYGON (((-3881901.401 -894700.846, -388...</td>\n",
       "      <td>{'addr:housename': 'Armazém 12', 'building': '...</td>\n",
       "    </tr>\n",
       "    <tr>\n",
       "      <th>1</th>\n",
       "      <td>103632432</td>\n",
       "      <td>51816216</td>\n",
       "      <td>372613650</td>\n",
       "      <td>MULTIPOLYGON (((-3882153.929 -894808.150, -388...</td>\n",
       "      <td>{'building': 'yes', 'building:levels': '5', 'n...</td>\n",
       "    </tr>\n",
       "    <tr>\n",
       "      <th>2</th>\n",
       "      <td>103632434</td>\n",
       "      <td>51816217</td>\n",
       "      <td>372613651</td>\n",
       "      <td>MULTIPOLYGON (((-3882170.894 -894729.875, -388...</td>\n",
       "      <td>{'addr:city': 'Recife', 'addr:housenumber': '3...</td>\n",
       "    </tr>\n",
       "    <tr>\n",
       "      <th>3</th>\n",
       "      <td>103632436</td>\n",
       "      <td>51816218</td>\n",
       "      <td>372613652</td>\n",
       "      <td>MULTIPOLYGON (((-3882008.257 -894818.951, -388...</td>\n",
       "      <td>{'addr:city': 'Recife', 'addr:housenumber': '1...</td>\n",
       "    </tr>\n",
       "    <tr>\n",
       "      <th>4</th>\n",
       "      <td>103632440</td>\n",
       "      <td>51816220</td>\n",
       "      <td>372613653</td>\n",
       "      <td>MULTIPOLYGON (((-3881952.931 -894798.567, -388...</td>\n",
       "      <td>{'addr:housename': 'Armazém 13', 'building': '...</td>\n",
       "    </tr>\n",
       "    <tr>\n",
       "      <th>...</th>\n",
       "      <td>...</td>\n",
       "      <td>...</td>\n",
       "      <td>...</td>\n",
       "      <td>...</td>\n",
       "      <td>...</td>\n",
       "    </tr>\n",
       "    <tr>\n",
       "      <th>140735</th>\n",
       "      <td>2141551196</td>\n",
       "      <td>1070775598</td>\n",
       "      <td>372753992</td>\n",
       "      <td>MULTIPOLYGON (((-3886741.183 -893286.228, -388...</td>\n",
       "      <td>{'addr:city': 'Recife', 'addr:housenumber': '1...</td>\n",
       "    </tr>\n",
       "    <tr>\n",
       "      <th>140736</th>\n",
       "      <td>2142328828</td>\n",
       "      <td>1071164414</td>\n",
       "      <td>372753993</td>\n",
       "      <td>MULTIPOLYGON (((-3884965.670 -882385.388, -388...</td>\n",
       "      <td>{'addr:street': 'Rua Trinta e Nove', 'amenity'...</td>\n",
       "    </tr>\n",
       "    <tr>\n",
       "      <th>140737</th>\n",
       "      <td>2143656474</td>\n",
       "      <td>1071828237</td>\n",
       "      <td>372753994</td>\n",
       "      <td>MULTIPOLYGON (((-3892679.087 -904817.115, -389...</td>\n",
       "      <td>{'building': 'warehouse'}</td>\n",
       "    </tr>\n",
       "    <tr>\n",
       "      <th>140738</th>\n",
       "      <td>26060041</td>\n",
       "      <td>13030020</td>\n",
       "      <td>339</td>\n",
       "      <td>MULTIPOLYGON (((-3884610.049 -897014.924, -388...</td>\n",
       "      <td>{'alt_name': 'Empresarial Riomar Trade Center ...</td>\n",
       "    </tr>\n",
       "    <tr>\n",
       "      <th>140739</th>\n",
       "      <td>26060045</td>\n",
       "      <td>13030022</td>\n",
       "      <td>341</td>\n",
       "      <td>MULTIPOLYGON (((-3884648.499 -897070.964, -388...</td>\n",
       "      <td>{'addr:city': 'Recife', 'addr:housenumber': '2...</td>\n",
       "    </tr>\n",
       "  </tbody>\n",
       "</table>\n",
       "<p>140740 rows × 5 columns</p>\n",
       "</div>"
      ],
      "text/plain": [
       "                id     orig_id  building_id  \\\n",
       "0        103632422    51816211    372613649   \n",
       "1        103632432    51816216    372613650   \n",
       "2        103632434    51816217    372613651   \n",
       "3        103632436    51816218    372613652   \n",
       "4        103632440    51816220    372613653   \n",
       "...            ...         ...          ...   \n",
       "140735  2141551196  1070775598    372753992   \n",
       "140736  2142328828  1071164414    372753993   \n",
       "140737  2143656474  1071828237    372753994   \n",
       "140738    26060041    13030020          339   \n",
       "140739    26060045    13030022          341   \n",
       "\n",
       "                                                 geometry  \\\n",
       "0       MULTIPOLYGON (((-3881901.401 -894700.846, -388...   \n",
       "1       MULTIPOLYGON (((-3882153.929 -894808.150, -388...   \n",
       "2       MULTIPOLYGON (((-3882170.894 -894729.875, -388...   \n",
       "3       MULTIPOLYGON (((-3882008.257 -894818.951, -388...   \n",
       "4       MULTIPOLYGON (((-3881952.931 -894798.567, -388...   \n",
       "...                                                   ...   \n",
       "140735  MULTIPOLYGON (((-3886741.183 -893286.228, -388...   \n",
       "140736  MULTIPOLYGON (((-3884965.670 -882385.388, -388...   \n",
       "140737  MULTIPOLYGON (((-3892679.087 -904817.115, -389...   \n",
       "140738  MULTIPOLYGON (((-3884610.049 -897014.924, -388...   \n",
       "140739  MULTIPOLYGON (((-3884648.499 -897070.964, -388...   \n",
       "\n",
       "                                                     tags  \n",
       "0       {'addr:housename': 'Armazém 12', 'building': '...  \n",
       "1       {'building': 'yes', 'building:levels': '5', 'n...  \n",
       "2       {'addr:city': 'Recife', 'addr:housenumber': '3...  \n",
       "3       {'addr:city': 'Recife', 'addr:housenumber': '1...  \n",
       "4       {'addr:housename': 'Armazém 13', 'building': '...  \n",
       "...                                                   ...  \n",
       "140735  {'addr:city': 'Recife', 'addr:housenumber': '1...  \n",
       "140736  {'addr:street': 'Rua Trinta e Nove', 'amenity'...  \n",
       "140737                          {'building': 'warehouse'}  \n",
       "140738  {'alt_name': 'Empresarial Riomar Trade Center ...  \n",
       "140739  {'addr:city': 'Recife', 'addr:housenumber': '2...  \n",
       "\n",
       "[140740 rows x 5 columns]"
      ]
     },
     "execution_count": 79,
     "metadata": {},
     "output_type": "execute_result"
    }
   ],
   "source": [
    "gdf = h.get_gdf()\n",
    "gdf = gdf.to_crs('epsg:3395')\n",
    "gdf"
   ]
  },
  {
   "cell_type": "code",
   "execution_count": 82,
   "metadata": {},
   "outputs": [
    {
     "data": {
      "text/plain": [
       "<AxesSubplot:>"
      ]
     },
     "execution_count": 82,
     "metadata": {},
     "output_type": "execute_result"
    },
    {
     "data": {
      "image/png": "[encoded data removed]",
      "text/plain": [
       "<Figure size 432x288 with 1 Axes>"
      ]
     },
     "metadata": {
      "needs_background": "light"
     },
     "output_type": "display_data"
    }
   ],
   "source": [
    "gdf[gdf['orig_id'] == 7951360].plot()"
   ]
  },
  {
   "cell_type": "code",
   "execution_count": 83,
   "metadata": {},
   "outputs": [
    {
     "data": {
      "text/plain": [
       "<AxesSubplot:>"
      ]
     },
     "execution_count": 83,
     "metadata": {},
     "output_type": "execute_result"
    },
    {
     "data": {
      "image/png": "[encoded data removed]",
      "text/plain": [
       "<Figure size 432x288 with 1 Axes>"
      ]
     },
     "metadata": {
      "needs_background": "light"
     },
     "output_type": "display_data"
    }
   ],
   "source": [
    "gdf[gdf['orig_id'] == 662611641].plot()"
   ]
  },
  {
   "cell_type": "code",
   "execution_count": 39,
   "metadata": {},
   "outputs": [
    {
     "data": {
      "text/html": [
       "<div>\n",
       "<style scoped>\n",
       "    .dataframe tbody tr th:only-of-type {\n",
       "        vertical-align: middle;\n",
       "    }\n",
       "\n",
       "    .dataframe tbody tr th {\n",
       "        vertical-align: top;\n",
       "    }\n",
       "\n",
       "    .dataframe thead th {\n",
       "        text-align: right;\n",
       "    }\n",
       "</style>\n",
       "<table border=\"1\" class=\"dataframe\">\n",
       "  <thead>\n",
       "    <tr style=\"text-align: right;\">\n",
       "      <th></th>\n",
       "      <th>id</th>\n",
       "      <th>orig_id</th>\n",
       "      <th>building_id</th>\n",
       "      <th>geometry</th>\n",
       "      <th>min_height</th>\n",
       "      <th>height</th>\n",
       "      <th>tags</th>\n",
       "    </tr>\n",
       "  </thead>\n",
       "  <tbody>\n",
       "    <tr>\n",
       "      <th>140739</th>\n",
       "      <td>26060045</td>\n",
       "      <td>13030022</td>\n",
       "      <td>341</td>\n",
       "      <td>MULTIPOLYGON (((-3884648.499 -897070.964, -388...</td>\n",
       "      <td>0.0</td>\n",
       "      <td>35.0</td>\n",
       "      <td>{'addr:city': 'Recife', 'addr:housenumber': '2...</td>\n",
       "    </tr>\n",
       "  </tbody>\n",
       "</table>\n",
       "</div>"
      ],
      "text/plain": [
       "              id   orig_id  building_id  \\\n",
       "140739  26060045  13030022          341   \n",
       "\n",
       "                                                 geometry  min_height  height  \\\n",
       "140739  MULTIPOLYGON (((-3884648.499 -897070.964, -388...         0.0    35.0   \n",
       "\n",
       "                                                     tags  \n",
       "140739  {'addr:city': 'Recife', 'addr:housenumber': '2...  "
      ]
     },
     "execution_count": 39,
     "metadata": {},
     "output_type": "execute_result"
    }
   ],
   "source": [
    "gdf[gdf['building_id'] == 341]"
   ]
  },
  {
   "cell_type": "code",
   "execution_count": 7,
   "metadata": {},
   "outputs": [],
   "source": [
    "way_id = gdf['orig_id'].to_list()"
   ]
  },
  {
   "cell_type": "code",
   "execution_count": 10,
   "metadata": {},
   "outputs": [
    {
     "name": "stderr",
     "output_type": "stream",
     "text": [
      "C:\\Users\\qshah\\AppData\\Local\\Temp\\ipykernel_11096\\289137431.py:1: DtypeWarning: Columns (5,7,8,9,10,11,12,13,14,15,16,17,18,20,21,22,23,24,25,26,27,28,29,30,31,32,33,34,35,36,37,38,39,40,41,43,46,48,49,50,54,55,56,57,58,59,60,61,62,63,64,65,66,67,68,69,70,71,72,73,74,75,76,77,78,79,80,81,82,83,84,85,86,87,88,89,90,91,92,93,94,95,96,97,98,99,100,101,102,103,104,105,106,107,108,109,110,111,113,114,115,116,117,118,119,120,121,122,123,124,125,126,127,128,129,130,131,132,133,134,135,136,137,138,139,140,141,142,143,144,145,146,147,148,149,150,151,152,153,154,155,156,157,158,159,160,161,162,163,164,165,166,167,168,169,170,171,172,173,174,175,176,177,178,179,180,181,182,183,184,187,188,189,191,192,193,194,195,196,197,198,199,200,201,202,203,204,205,206,207,208,209,210,211,212,213,214,215,216,217,218,219,220,221,222,223,224,225,227,228,229,230,231,232,233,234,235,236,237,238,239,240,241,242,243,244,245,246,247,248,249,250,251,252,253,254,255,256) have mixed types. Specify dtype option on import or set low_memory=False.\n",
      "  latest_osm_way_id = pd.read_csv('data/all-building-features.csv', index_col = 0)['id'].to_list()\n"
     ]
    }
   ],
   "source": [
    "latest_osm_way_id = pd.read_csv('data/all-building-features.csv', index_col = 0)['id'].to_list()"
   ]
  },
  {
   "cell_type": "code",
   "execution_count": 25,
   "metadata": {},
   "outputs": [
    {
     "data": {
      "text/plain": [
       "<AxesSubplot:>"
      ]
     },
     "execution_count": 25,
     "metadata": {},
     "output_type": "execute_result"
    },
    {
     "data": {
      "image/png": "[encoded data removed]",
      "text/plain": [
       "<Figure size 432x288 with 1 Axes>"
      ]
     },
     "metadata": {
      "needs_background": "light"
     },
     "output_type": "display_data"
    }
   ],
   "source": [
    "gdf[gdf.orig_id == 5535458].plot()"
   ]
  },
  {
   "cell_type": "code",
   "execution_count": 26,
   "metadata": {},
   "outputs": [
    {
     "name": "stdout",
     "output_type": "stream",
     "text": [
      "MULTIPOLYGON (((-3882609.860544179 -894409.9530229795, -3882521.172305864 -894431.0070866684, -3882514.415212773 -894402.525464422, -3882529.6214552163 -894398.9177935686, -3882529.81069835 -894399.755488013, -3882543.3582803793 -894396.5387414319, -3882542.0669742865 -894391.0658050729, -3882550.538387535 -894389.0553388244, -3882550.894609906 -894390.5631885024, -3882564.598039223 -894387.3129348154, -3882564.230684903 -894385.7492389678, -3882572.6241745087 -894383.7611114694, -3882573.870952806 -894389.0218310542, -3882587.9194725435 -894385.7045619445, -3882587.652305766 -894384.5764671181, -3882602.5134577877 -894381.0469824992, -3882609.860544179 -894409.9530229795), (-3882584.6466795146 -894404.0221452949, -3882583.433297065 -894398.7614239404, -3882573.002660778 -894401.1628147153, -3882574.2271751757 -894406.4235363528, -3882584.6466795146 -894404.0221452949), (-3882550.8166862624 -894411.8294590218, -3882549.703491355 -894407.1048612815, -3882539.4509662525 -894409.5062525054, -3882540.5641611605 -894414.2420197634, -3882550.8166862624 -894411.8294590218)))\n"
     ]
    }
   ],
   "source": [
    "print(gdf[gdf.orig_id == 5535458].geometry.iloc[0])"
   ]
  },
  {
   "cell_type": "code",
   "execution_count": null,
   "metadata": {},
   "outputs": [],
   "source": [
    "# relation are completely excluded which should not be the case!!\n"
   ]
  }
 ],
 "metadata": {
  "kernelspec": {
   "display_name": "Python 3.10.4 ('osm')",
   "language": "python",
   "name": "python3"
  },
  "language_info": {
   "codemirror_mode": {
    "name": "ipython",
    "version": 3
   },
   "file_extension": ".py",
   "mimetype": "text/x-python",
   "name": "python",
   "nbconvert_exporter": "python",
   "pygments_lexer": "ipython3",
   "version": "3.10.4"
  },
  "orig_nbformat": 4,
  "vscode": {
   "interpreter": {
    "hash": "d461307e359c4a471c331ecda36ec4a5d3c3efb8dd7ad3189b4dceca28abdadb"
   }
  }
 },
 "nbformat": 4,
 "nbformat_minor": 2
}
