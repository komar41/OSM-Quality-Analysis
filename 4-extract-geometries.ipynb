{
 "cells": [
  {
   "cell_type": "code",
   "execution_count": 1,
   "metadata": {},
   "outputs": [],
   "source": [
    "from extractGeometries import *"
   ]
  },
  {
   "cell_type": "code",
   "execution_count": 2,
   "metadata": {},
   "outputs": [],
   "source": [
    "h_r = AreaHandler()\n",
    "h_r.apply_file(\"data/osm/rec.osm.pbf\")"
   ]
  },
  {
   "cell_type": "code",
   "execution_count": 3,
   "metadata": {},
   "outputs": [
    {
     "ename": "ValueError",
     "evalue": "invalid literal for int() with base 10: '010600000001000000010300000001000000050000003DBDAD4F946F41C0C4318111EA2020C040170D198F6F41C000C974E8F42020C075B1C45E836F41C0878494449B2020C03196E997886F41C021CA17B4902020C03DBDAD4F946F41C0C4318111EA2",
     "output_type": "error",
     "traceback": [
      "\u001b[0;31m---------------------------------------------------------------------------\u001b[0m",
      "\u001b[0;31mValueError\u001b[0m                                Traceback (most recent call last)",
      "\u001b[1;32m/Users/kazishahrukhomar/Documents/3. Summer 2022/osm-quality-analysis/4-extract-geometries.ipynb Cell 3\u001b[0m in \u001b[0;36m<module>\u001b[0;34m\u001b[0m\n\u001b[0;32m----> <a href='vscode-notebook-cell:/Users/kazishahrukhomar/Documents/3.%20Summer%202022/osm-quality-analysis/4-extract-geometries.ipynb#ch0000005?line=0'>1</a>\u001b[0m h_r\u001b[39m.\u001b[39;49mget_buildings()\n",
      "File \u001b[0;32m~/Documents/3. Summer 2022/osm-quality-analysis/extractGeometries.py:37\u001b[0m, in \u001b[0;36mget_buildings\u001b[0;34m(self)\u001b[0m\n\u001b[1;32m     35\u001b[0m         iid\u001b[39m.\u001b[39mappend(\u001b[39mself\u001b[39m\u001b[39m.\u001b[39mgeometry[i])\n\u001b[1;32m     36\u001b[0m         typ\u001b[39m.\u001b[39mappend(\u001b[39mself\u001b[39m\u001b[39m.\u001b[39mtype[i])\n\u001b[0;32m---> 37\u001b[0m         geom\u001b[39m.\u001b[39mappend(\u001b[39mself\u001b[39m\u001b[39m.\u001b[39mid[i])\n\u001b[1;32m     39\u001b[0m \u001b[39mid\u001b[39m \u001b[39m=\u001b[39m pd\u001b[39m.\u001b[39mSeries(iid, dtype\u001b[39m=\u001b[39m\u001b[39m'\u001b[39m\u001b[39mUInt64\u001b[39m\u001b[39m'\u001b[39m)\n\u001b[1;32m     40\u001b[0m \u001b[39mtype\u001b[39m \u001b[39m=\u001b[39m pd\u001b[39m.\u001b[39mSeries(typ, dtype\u001b[39m=\u001b[39m\u001b[39m'\u001b[39m\u001b[39mstring\u001b[39m\u001b[39m'\u001b[39m)\n",
      "File \u001b[0;32m/opt/anaconda3/envs/osm/lib/python3.10/site-packages/pandas/core/series.py:451\u001b[0m, in \u001b[0;36mSeries.__init__\u001b[0;34m(self, data, index, dtype, name, copy, fastpath)\u001b[0m\n\u001b[1;32m    449\u001b[0m         data \u001b[39m=\u001b[39m data\u001b[39m.\u001b[39mcopy()\n\u001b[1;32m    450\u001b[0m \u001b[39melse\u001b[39;00m:\n\u001b[0;32m--> 451\u001b[0m     data \u001b[39m=\u001b[39m sanitize_array(data, index, dtype, copy)\n\u001b[1;32m    453\u001b[0m     manager \u001b[39m=\u001b[39m get_option(\u001b[39m\"\u001b[39m\u001b[39mmode.data_manager\u001b[39m\u001b[39m\"\u001b[39m)\n\u001b[1;32m    454\u001b[0m     \u001b[39mif\u001b[39;00m manager \u001b[39m==\u001b[39m \u001b[39m\"\u001b[39m\u001b[39mblock\u001b[39m\u001b[39m\"\u001b[39m:\n",
      "File \u001b[0;32m/opt/anaconda3/envs/osm/lib/python3.10/site-packages/pandas/core/construction.py:591\u001b[0m, in \u001b[0;36msanitize_array\u001b[0;34m(data, index, dtype, copy, raise_cast_failure, allow_2d)\u001b[0m\n\u001b[1;32m    588\u001b[0m     data \u001b[39m=\u001b[39m \u001b[39mlist\u001b[39m(data)\n\u001b[1;32m    590\u001b[0m \u001b[39mif\u001b[39;00m dtype \u001b[39mis\u001b[39;00m \u001b[39mnot\u001b[39;00m \u001b[39mNone\u001b[39;00m \u001b[39mor\u001b[39;00m \u001b[39mlen\u001b[39m(data) \u001b[39m==\u001b[39m \u001b[39m0\u001b[39m:\n\u001b[0;32m--> 591\u001b[0m     subarr \u001b[39m=\u001b[39m _try_cast(data, dtype, copy, raise_cast_failure)\n\u001b[1;32m    592\u001b[0m \u001b[39melse\u001b[39;00m:\n\u001b[1;32m    593\u001b[0m     subarr \u001b[39m=\u001b[39m maybe_convert_platform(data)\n",
      "File \u001b[0;32m/opt/anaconda3/envs/osm/lib/python3.10/site-packages/pandas/core/construction.py:754\u001b[0m, in \u001b[0;36m_try_cast\u001b[0;34m(arr, dtype, copy, raise_cast_failure)\u001b[0m\n\u001b[1;32m    751\u001b[0m         \u001b[39m# TODO: copy?\u001b[39;00m\n\u001b[1;32m    753\u001b[0m     array_type \u001b[39m=\u001b[39m dtype\u001b[39m.\u001b[39mconstruct_array_type()\u001b[39m.\u001b[39m_from_sequence\n\u001b[0;32m--> 754\u001b[0m     subarr \u001b[39m=\u001b[39m array_type(arr, dtype\u001b[39m=\u001b[39;49mdtype, copy\u001b[39m=\u001b[39;49mcopy)\n\u001b[1;32m    755\u001b[0m     \u001b[39mreturn\u001b[39;00m subarr\n\u001b[1;32m    757\u001b[0m \u001b[39melif\u001b[39;00m is_object_dtype(dtype):\n",
      "File \u001b[0;32m/opt/anaconda3/envs/osm/lib/python3.10/site-packages/pandas/core/arrays/integer.py:325\u001b[0m, in \u001b[0;36mIntegerArray._from_sequence\u001b[0;34m(cls, scalars, dtype, copy)\u001b[0m\n\u001b[1;32m    321\u001b[0m \u001b[39m@classmethod\u001b[39m\n\u001b[1;32m    322\u001b[0m \u001b[39mdef\u001b[39;00m \u001b[39m_from_sequence\u001b[39m(\n\u001b[1;32m    323\u001b[0m     \u001b[39mcls\u001b[39m, scalars, \u001b[39m*\u001b[39m, dtype: Dtype \u001b[39m|\u001b[39m \u001b[39mNone\u001b[39;00m \u001b[39m=\u001b[39m \u001b[39mNone\u001b[39;00m, copy: \u001b[39mbool\u001b[39m \u001b[39m=\u001b[39m \u001b[39mFalse\u001b[39;00m\n\u001b[1;32m    324\u001b[0m ) \u001b[39m-\u001b[39m\u001b[39m>\u001b[39m IntegerArray:\n\u001b[0;32m--> 325\u001b[0m     values, mask \u001b[39m=\u001b[39m coerce_to_array(scalars, dtype\u001b[39m=\u001b[39;49mdtype, copy\u001b[39m=\u001b[39;49mcopy)\n\u001b[1;32m    326\u001b[0m     \u001b[39mreturn\u001b[39;00m IntegerArray(values, mask)\n",
      "File \u001b[0;32m/opt/anaconda3/envs/osm/lib/python3.10/site-packages/pandas/core/arrays/integer.py:228\u001b[0m, in \u001b[0;36mcoerce_to_array\u001b[0;34m(values, dtype, mask, copy)\u001b[0m\n\u001b[1;32m    224\u001b[0m     values[mask] \u001b[39m=\u001b[39m \u001b[39m1\u001b[39m\n\u001b[1;32m    225\u001b[0m \u001b[39mif\u001b[39;00m inferred_type \u001b[39min\u001b[39;00m (\u001b[39m\"\u001b[39m\u001b[39mstring\u001b[39m\u001b[39m\"\u001b[39m, \u001b[39m\"\u001b[39m\u001b[39municode\u001b[39m\u001b[39m\"\u001b[39m):\n\u001b[1;32m    226\u001b[0m     \u001b[39m# casts from str are always safe since they raise\u001b[39;00m\n\u001b[1;32m    227\u001b[0m     \u001b[39m# a ValueError if the str cannot be parsed into an int\u001b[39;00m\n\u001b[0;32m--> 228\u001b[0m     values \u001b[39m=\u001b[39m values\u001b[39m.\u001b[39;49mastype(dtype, copy\u001b[39m=\u001b[39;49mcopy)\n\u001b[1;32m    229\u001b[0m \u001b[39melse\u001b[39;00m:\n\u001b[1;32m    230\u001b[0m     values \u001b[39m=\u001b[39m safe_cast(values, dtype, copy\u001b[39m=\u001b[39m\u001b[39mFalse\u001b[39;00m)\n",
      "\u001b[0;31mValueError\u001b[0m: invalid literal for int() with base 10: '010600000001000000010300000001000000050000003DBDAD4F946F41C0C4318111EA2020C040170D198F6F41C000C974E8F42020C075B1C45E836F41C0878494449B2020C03196E997886F41C021CA17B4902020C03DBDAD4F946F41C0C4318111EA2"
     ]
    }
   ],
   "source": [
    "h_r.get_buildings()"
   ]
  },
  {
   "cell_type": "code",
   "execution_count": null,
   "metadata": {},
   "outputs": [],
   "source": []
  }
 ],
 "metadata": {
  "kernelspec": {
   "display_name": "Python 3.10.2 ('osm')",
   "language": "python",
   "name": "python3"
  },
  "language_info": {
   "codemirror_mode": {
    "name": "ipython",
    "version": 3
   },
   "file_extension": ".py",
   "mimetype": "text/x-python",
   "name": "python",
   "nbconvert_exporter": "python",
   "pygments_lexer": "ipython3",
   "version": "3.10.2"
  },
  "orig_nbformat": 4,
  "vscode": {
   "interpreter": {
    "hash": "1feccb4052f9d612ec7bc9e73c7f5fba1e3a3b7c19dc9abf0c136bddc360f360"
   }
  }
 },
 "nbformat": 4,
 "nbformat_minor": 2
}
