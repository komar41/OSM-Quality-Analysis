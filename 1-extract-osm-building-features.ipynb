{
 "cells": [
  {
   "cell_type": "code",
   "execution_count": 2,
   "metadata": {},
   "outputs": [],
   "source": [
    "import osmium\n",
    "import re\n",
    "\n",
    "import geopandas as gpd\n",
    "import pandas as pd\n",
    "import numpy as np"
   ]
  },
  {
   "cell_type": "code",
   "execution_count": 36,
   "metadata": {},
   "outputs": [],
   "source": [
    "LEVEL_HEIGHT = 3.4\n",
    "\n",
    "# https://wiki.openstreetmap.org/wiki/Simple_3D_buildings#Other_roof_tags\n",
    "def _feet_to_meters(s):\n",
    "    r = re.compile(\"([0-9]*\\.?[0-9]+)'([0-9]*\\.?[0-9]+)?\\\"?\")\n",
    "    m = r.findall(s)[0]\n",
    "    if len(m[0]) > 0 and len(m[1]) > 0:\n",
    "        m = float(m[0]) + float(m[1]) / 12.0\n",
    "    elif len(m[0]) > 0:\n",
    "        m = float(m[0])\n",
    "    return m * 0.3048\n",
    "\n",
    "def _get_height(tags):\n",
    "    if 'height' in tags:\n",
    "        # already accounts for roof\n",
    "        if '\\'' in tags['height'] or '\\\"' in tags['height']:\n",
    "            return _feet_to_meters(tags['height'])\n",
    "        r = re.compile(r\"[-+]?\\d*\\.\\d+|\\d+\")\n",
    "        return float(r.findall(tags['height'])[0])\n",
    "    if 'levels' in tags:\n",
    "        roof_height = 0\n",
    "        if 'roof_height' in tags:\n",
    "            if '\\'' in tags['roof_height'] or '\\\"' in tags['roof_height']:\n",
    "                roof_height = _feet_to_meters(tags['roof_height'])\n",
    "            else:\n",
    "                r = re.compile(r\"[-+]?\\d*\\.\\d+|\\d+\")\n",
    "                roof_height = float(r.findall(tags['roof_height'])[0])\n",
    "\n",
    "        # does not account for roof height\n",
    "        height = float(tags['levels']) * LEVEL_HEIGHT\n",
    "        if 'roof_levels' in tags and roof_height == 0:\n",
    "            height += float(tags['roof_levels']) * LEVEL_HEIGHT\n",
    "        return height\n",
    "    return 7.0\n",
    "\n",
    "def _get_x(tags, x):\n",
    "    if x in tags:\n",
    "        return tags[x]\n",
    "    else:\n",
    "        return np.nan\n",
    "\n",
    "\n",
    "def _get_min_height(tags):\n",
    "    if 'min_height' in tags:\n",
    "        # already accounts for roof\n",
    "        if '\\'' in tags['min_height'] or '\\\"' in tags['min_height']:\n",
    "            return _feet_to_meters(tags['min_height'])\n",
    "        r = re.compile(r\"[-+]?\\d*\\.\\d+|\\d+\")\n",
    "        return float(r.findall(tags['min_height'])[0])\n",
    "    if 'min_level' in tags:\n",
    "        height = float(tags['min_level']) * LEVEL_HEIGHT\n",
    "        return height\n",
    "    return 0.0\n",
    "\n",
    "class BuildingHandler(osmium.SimpleHandler):\n",
    "\n",
    "    def __init__(self):\n",
    "        osmium.SimpleHandler.__init__(self)\n",
    "        self.geometry = []\n",
    "        self.height = []\n",
    "        self.min_height = []\n",
    "        self.wkbfab = osmium.geom.WKBFactory()\n",
    "        self.roof_material = []\n",
    "        self.roof_shape = []\n",
    "        self.building_material = []\n",
    "        self.building_colour = []\n",
    "        # self.file = open(\"tags.txt\", \"a\")\n",
    "\n",
    "    def get_gdf(self):\n",
    "        geometry = gpd.GeoSeries.from_wkb(self.geometry, crs='epsg:4326')\n",
    "        \n",
    "        return gpd.GeoDataFrame({\n",
    "            'geometry': geometry,\n",
    "            'min_height': self.min_height,\n",
    "            'height': self.height,\n",
    "            'roof_material': self.roof_material,\n",
    "            'roof_shape': self.roof_shape,\n",
    "            'building_material': self.building_material,\n",
    "            'building_colour': self.building_colour\n",
    "        }, index=geometry.index)\n",
    "\n",
    "    def area(self, a):\n",
    "        tags = a.tags\n",
    "        # Qualifiers\n",
    "        if not ('building' in tags or 'building:part' in tags or tags.get('type', None) == 'building'):\n",
    "            return\n",
    "        # Disqualifiers\n",
    "        if (tags.get('location', None) == 'underground' or 'bridge' in tags):\n",
    "            return\n",
    "        try:\n",
    "            poly = self.wkbfab.create_multipolygon(a)\n",
    "            height = _get_height(tags)\n",
    "            min_height = _get_min_height(tags)\n",
    "            roof_material = _get_x(tags, \"roof:material\")\n",
    "            roof_shape = _get_x(tags, \"roof:shape\")\n",
    "            building_material = _get_x(tags, \"building:material\")\n",
    "            building_colour = _get_x(tags, \"building:colour\")\n",
    "            \n",
    "            self.geometry.append(poly)\n",
    "            self.height.append(height)\n",
    "            self.min_height.append(min_height)\n",
    "            self.roof_material.append(roof_material)\n",
    "            self.roof_shape.append(roof_shape)\n",
    "            self.building_material.append(building_material)\n",
    "            self.building_colour.append(building_colour)\n",
    "        except Exception as e:\n",
    "            print(e)\n",
    "            print(a)"
   ]
  },
  {
   "cell_type": "code",
   "execution_count": 37,
   "metadata": {},
   "outputs": [],
   "source": [
    "h = BuildingHandler()\n",
    "h.apply_file('data/osm/rec.osm.pbf', locations=True)\n",
    "gdf = h.get_gdf()"
   ]
  },
  {
   "cell_type": "code",
   "execution_count": 40,
   "metadata": {},
   "outputs": [
    {
     "data": {
      "text/plain": [
       "7.0      139940\n",
       "12.5         95\n",
       "12.0         70\n",
       "10.0         42\n",
       "13.0         42\n",
       "          ...  \n",
       "110.0         1\n",
       "2.1           1\n",
       "32.0          1\n",
       "31.0          1\n",
       "88.0          1\n",
       "Name: height, Length: 89, dtype: int64"
      ]
     },
     "execution_count": 40,
     "metadata": {},
     "output_type": "execute_result"
    }
   ],
   "source": [
    "gdf.height.value_counts()"
   ]
  },
  {
   "cell_type": "code",
   "execution_count": 39,
   "metadata": {},
   "outputs": [
    {
     "data": {
      "text/plain": [
       "concrete    76\n",
       "grass        2\n",
       "glass        1\n",
       "Name: roof_material, dtype: int64"
      ]
     },
     "execution_count": 39,
     "metadata": {},
     "output_type": "execute_result"
    }
   ],
   "source": [
    "gdf.roof_material.value_counts()"
   ]
  },
  {
   "cell_type": "code",
   "execution_count": 42,
   "metadata": {},
   "outputs": [
    {
     "data": {
      "text/plain": [
       "gabled       120\n",
       "skillion      73\n",
       "flat          38\n",
       "pyramidal      3\n",
       "Name: roof_shape, dtype: int64"
      ]
     },
     "execution_count": 42,
     "metadata": {},
     "output_type": "execute_result"
    }
   ],
   "source": [
    "gdf.roof_shape.value_counts()"
   ]
  },
  {
   "cell_type": "code",
   "execution_count": 43,
   "metadata": {},
   "outputs": [
    {
     "data": {
      "text/plain": [
       "concrete        25\n",
       "cement_block     5\n",
       "contentor        1\n",
       "Name: building_material, dtype: int64"
      ]
     },
     "execution_count": 43,
     "metadata": {},
     "output_type": "execute_result"
    }
   ],
   "source": [
    "gdf.building_material.value_counts()"
   ]
  },
  {
   "cell_type": "code",
   "execution_count": 35,
   "metadata": {},
   "outputs": [
    {
     "data": {
      "text/html": [
       "<div>\n",
       "<style scoped>\n",
       "    .dataframe tbody tr th:only-of-type {\n",
       "        vertical-align: middle;\n",
       "    }\n",
       "\n",
       "    .dataframe tbody tr th {\n",
       "        vertical-align: top;\n",
       "    }\n",
       "\n",
       "    .dataframe thead th {\n",
       "        text-align: right;\n",
       "    }\n",
       "</style>\n",
       "<table border=\"1\" class=\"dataframe\">\n",
       "  <thead>\n",
       "    <tr style=\"text-align: right;\">\n",
       "      <th></th>\n",
       "      <th>geometry</th>\n",
       "      <th>min_height</th>\n",
       "      <th>height</th>\n",
       "      <th>roof_material</th>\n",
       "      <th>roof_shape</th>\n",
       "      <th>building_material</th>\n",
       "    </tr>\n",
       "  </thead>\n",
       "  <tbody>\n",
       "    <tr>\n",
       "      <th>0</th>\n",
       "      <td>MULTIPOLYGON (((-34.87171 -8.06429, -34.87155 ...</td>\n",
       "      <td>0.0</td>\n",
       "      <td>7.0</td>\n",
       "      <td>NaN</td>\n",
       "      <td>gabled</td>\n",
       "      <td>NaN</td>\n",
       "    </tr>\n",
       "    <tr>\n",
       "      <th>1</th>\n",
       "      <td>MULTIPOLYGON (((-34.87398 -8.06525, -34.87389 ...</td>\n",
       "      <td>0.0</td>\n",
       "      <td>7.0</td>\n",
       "      <td>NaN</td>\n",
       "      <td>NaN</td>\n",
       "      <td>NaN</td>\n",
       "    </tr>\n",
       "    <tr>\n",
       "      <th>2</th>\n",
       "      <td>MULTIPOLYGON (((-34.87413 -8.06455, -34.87409 ...</td>\n",
       "      <td>0.0</td>\n",
       "      <td>13.0</td>\n",
       "      <td>NaN</td>\n",
       "      <td>NaN</td>\n",
       "      <td>NaN</td>\n",
       "    </tr>\n",
       "    <tr>\n",
       "      <th>3</th>\n",
       "      <td>MULTIPOLYGON (((-34.87267 -8.06534, -34.87264 ...</td>\n",
       "      <td>0.0</td>\n",
       "      <td>7.0</td>\n",
       "      <td>NaN</td>\n",
       "      <td>NaN</td>\n",
       "      <td>NaN</td>\n",
       "    </tr>\n",
       "    <tr>\n",
       "      <th>4</th>\n",
       "      <td>MULTIPOLYGON (((-34.87218 -8.06516, -34.87202 ...</td>\n",
       "      <td>0.0</td>\n",
       "      <td>7.0</td>\n",
       "      <td>NaN</td>\n",
       "      <td>gabled</td>\n",
       "      <td>NaN</td>\n",
       "    </tr>\n",
       "    <tr>\n",
       "      <th>...</th>\n",
       "      <td>...</td>\n",
       "      <td>...</td>\n",
       "      <td>...</td>\n",
       "      <td>...</td>\n",
       "      <td>...</td>\n",
       "      <td>...</td>\n",
       "    </tr>\n",
       "    <tr>\n",
       "      <th>140735</th>\n",
       "      <td>MULTIPOLYGON (((-34.91519 -8.05162, -34.91519 ...</td>\n",
       "      <td>0.0</td>\n",
       "      <td>7.0</td>\n",
       "      <td>NaN</td>\n",
       "      <td>NaN</td>\n",
       "      <td>NaN</td>\n",
       "    </tr>\n",
       "    <tr>\n",
       "      <th>140736</th>\n",
       "      <td>MULTIPOLYGON (((-34.89924 -7.95401, -34.89923 ...</td>\n",
       "      <td>0.0</td>\n",
       "      <td>7.0</td>\n",
       "      <td>NaN</td>\n",
       "      <td>NaN</td>\n",
       "      <td>NaN</td>\n",
       "    </tr>\n",
       "    <tr>\n",
       "      <th>140737</th>\n",
       "      <td>MULTIPOLYGON (((-34.96853 -8.15485, -34.96819 ...</td>\n",
       "      <td>0.0</td>\n",
       "      <td>7.0</td>\n",
       "      <td>NaN</td>\n",
       "      <td>NaN</td>\n",
       "      <td>NaN</td>\n",
       "    </tr>\n",
       "    <tr>\n",
       "      <th>140738</th>\n",
       "      <td>MULTIPOLYGON (((-34.89605 -8.08500, -34.89597 ...</td>\n",
       "      <td>0.0</td>\n",
       "      <td>40.0</td>\n",
       "      <td>NaN</td>\n",
       "      <td>NaN</td>\n",
       "      <td>NaN</td>\n",
       "    </tr>\n",
       "    <tr>\n",
       "      <th>140739</th>\n",
       "      <td>MULTIPOLYGON (((-34.89639 -8.08551, -34.89609 ...</td>\n",
       "      <td>0.0</td>\n",
       "      <td>35.0</td>\n",
       "      <td>NaN</td>\n",
       "      <td>NaN</td>\n",
       "      <td>NaN</td>\n",
       "    </tr>\n",
       "  </tbody>\n",
       "</table>\n",
       "<p>140740 rows × 6 columns</p>\n",
       "</div>"
      ],
      "text/plain": [
       "                                                 geometry  min_height  height  \\\n",
       "0       MULTIPOLYGON (((-34.87171 -8.06429, -34.87155 ...         0.0     7.0   \n",
       "1       MULTIPOLYGON (((-34.87398 -8.06525, -34.87389 ...         0.0     7.0   \n",
       "2       MULTIPOLYGON (((-34.87413 -8.06455, -34.87409 ...         0.0    13.0   \n",
       "3       MULTIPOLYGON (((-34.87267 -8.06534, -34.87264 ...         0.0     7.0   \n",
       "4       MULTIPOLYGON (((-34.87218 -8.06516, -34.87202 ...         0.0     7.0   \n",
       "...                                                   ...         ...     ...   \n",
       "140735  MULTIPOLYGON (((-34.91519 -8.05162, -34.91519 ...         0.0     7.0   \n",
       "140736  MULTIPOLYGON (((-34.89924 -7.95401, -34.89923 ...         0.0     7.0   \n",
       "140737  MULTIPOLYGON (((-34.96853 -8.15485, -34.96819 ...         0.0     7.0   \n",
       "140738  MULTIPOLYGON (((-34.89605 -8.08500, -34.89597 ...         0.0    40.0   \n",
       "140739  MULTIPOLYGON (((-34.89639 -8.08551, -34.89609 ...         0.0    35.0   \n",
       "\n",
       "       roof_material roof_shape building_material  \n",
       "0                NaN     gabled               NaN  \n",
       "1                NaN        NaN               NaN  \n",
       "2                NaN        NaN               NaN  \n",
       "3                NaN        NaN               NaN  \n",
       "4                NaN     gabled               NaN  \n",
       "...              ...        ...               ...  \n",
       "140735           NaN        NaN               NaN  \n",
       "140736           NaN        NaN               NaN  \n",
       "140737           NaN        NaN               NaN  \n",
       "140738           NaN        NaN               NaN  \n",
       "140739           NaN        NaN               NaN  \n",
       "\n",
       "[140740 rows x 6 columns]"
      ]
     },
     "execution_count": 35,
     "metadata": {},
     "output_type": "execute_result"
    }
   ],
   "source": [
    "gdf"
   ]
  },
  {
   "cell_type": "code",
   "execution_count": null,
   "metadata": {},
   "outputs": [],
   "source": []
  }
 ],
 "metadata": {
  "kernelspec": {
   "display_name": "Python 3.10.4 ('osm')",
   "language": "python",
   "name": "python3"
  },
  "language_info": {
   "codemirror_mode": {
    "name": "ipython",
    "version": 3
   },
   "file_extension": ".py",
   "mimetype": "text/x-python",
   "name": "python",
   "nbconvert_exporter": "python",
   "pygments_lexer": "ipython3",
   "version": "3.10.4"
  },
  "orig_nbformat": 4,
  "vscode": {
   "interpreter": {
    "hash": "d461307e359c4a471c331ecda36ec4a5d3c3efb8dd7ad3189b4dceca28abdadb"
   }
  }
 },
 "nbformat": 4,
 "nbformat_minor": 2
}
